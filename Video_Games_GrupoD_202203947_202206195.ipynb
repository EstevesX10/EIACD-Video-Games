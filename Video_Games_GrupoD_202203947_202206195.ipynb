{
 "cells": [
  {
   "cell_type": "code",
   "execution_count": 1,
   "id": "2350f238",
   "metadata": {},
   "outputs": [],
   "source": [
    "import numpy as np\n",
    "import pandas as pd\n",
    "import matplotlib.pyplot as plt\n",
    "import seaborn as sns\n",
    "import statistics\n",
    "\n",
    "from sklearn.model_selection import (train_test_split,\n",
    "                                     StratifiedKFold,\n",
    "                                     KFold,\n",
    "                                     cross_val_score,\n",
    "                                     GridSearchCV)\n",
    "\n",
    "from sklearn.tree import DecisionTreeClassifier\n",
    "import sklearn.tree as tree\n",
    "from sklearn.neighbors import KNeighborsClassifier\n",
    "\n",
    "from sklearn.metrics import (confusion_matrix,\n",
    "                            ConfusionMatrixDisplay,\n",
    "                            precision_score,\n",
    "                            recall_score,\n",
    "                            accuracy_score)"
   ]
  },
  {
   "cell_type": "code",
   "execution_count": 2,
   "id": "372b4b73",
   "metadata": {
    "code_folding": [
     0
    ]
   },
   "outputs": [
    {
     "data": {
      "text/html": [
       "\n",
       "<style>\n",
       ".output_png {\n",
       "    display: table-cell;\n",
       "    text-align: center;\n",
       "    vertical-align: middle;\n",
       "}\n",
       "</style>\n"
      ],
      "text/plain": [
       "<IPython.core.display.HTML object>"
      ]
     },
     "execution_count": 2,
     "metadata": {},
     "output_type": "execute_result"
    }
   ],
   "source": [
    "# IN ORDER TO CENTER ALL THE GRAPHS \n",
    "from IPython.core.display import HTML\n",
    "HTML(\"\"\"\n",
    "<style>\n",
    ".output_png {\n",
    "    display: table-cell;\n",
    "    text-align: center;\n",
    "    vertical-align: middle;\n",
    "}\n",
    "</style>\n",
    "\"\"\")"
   ]
  },
  {
   "cell_type": "code",
   "execution_count": 3,
   "id": "f0a64e71",
   "metadata": {
    "code_folding": [
     0
    ]
   },
   "outputs": [],
   "source": [
    "# IN ORDER TO SUPRESS SOME WARNING WHILE USING KNN \n",
    "from warnings import simplefilter\n",
    "simplefilter(action='ignore', category=FutureWarning)"
   ]
  },
  {
   "cell_type": "markdown",
   "id": "299f4857",
   "metadata": {},
   "source": [
    "# <center>Tasks</center>"
   ]
  },
  {
   "cell_type": "markdown",
   "id": "e46bdd67",
   "metadata": {
    "code_folding": []
   },
   "source": [
    "<center><img src=\"Images/Assignment_2_Tasks.png\" width=\"600\" title=\"Tasks\"></center>"
   ]
  },
  {
   "cell_type": "markdown",
   "id": "cc0f59b9",
   "metadata": {},
   "source": [
    "# <center>Tratamento de Dados</center>"
   ]
  },
  {
   "cell_type": "code",
   "execution_count": 4,
   "id": "6d3e1c71",
   "metadata": {},
   "outputs": [],
   "source": [
    "df = pd.read_csv('video_games.csv')"
   ]
  },
  {
   "cell_type": "code",
   "execution_count": 5,
   "id": "8f937286",
   "metadata": {
    "code_folding": []
   },
   "outputs": [
    {
     "data": {
      "text/html": [
       "<div>\n",
       "<style scoped>\n",
       "    .dataframe tbody tr th:only-of-type {\n",
       "        vertical-align: middle;\n",
       "    }\n",
       "\n",
       "    .dataframe tbody tr th {\n",
       "        vertical-align: top;\n",
       "    }\n",
       "\n",
       "    .dataframe thead th {\n",
       "        text-align: right;\n",
       "    }\n",
       "</style>\n",
       "<table border=\"1\" class=\"dataframe\">\n",
       "  <thead>\n",
       "    <tr style=\"text-align: right;\">\n",
       "      <th></th>\n",
       "      <th>id</th>\n",
       "      <th>name</th>\n",
       "      <th>category</th>\n",
       "      <th>n_dlcs</th>\n",
       "      <th>n_expansions</th>\n",
       "      <th>year</th>\n",
       "      <th>follows</th>\n",
       "      <th>in_franchise</th>\n",
       "      <th>genres</th>\n",
       "      <th>companies</th>\n",
       "      <th>platforms</th>\n",
       "      <th>user_score</th>\n",
       "      <th>user_rating</th>\n",
       "      <th>n_user_reviews</th>\n",
       "      <th>summary</th>\n",
       "    </tr>\n",
       "  </thead>\n",
       "  <tbody>\n",
       "    <tr>\n",
       "      <th>0</th>\n",
       "      <td>1020</td>\n",
       "      <td>Grand Theft Auto V</td>\n",
       "      <td>main_game</td>\n",
       "      <td>0</td>\n",
       "      <td>0</td>\n",
       "      <td>2013</td>\n",
       "      <td>1766</td>\n",
       "      <td>True</td>\n",
       "      <td>Shooter, Adventure</td>\n",
       "      <td>Rockstar North, Rockstar Games, Take-Two Inter...</td>\n",
       "      <td>PC (Microsoft Windows), PlayStation 3, Xbox 36...</td>\n",
       "      <td>90.202388</td>\n",
       "      <td>great</td>\n",
       "      <td>3369</td>\n",
       "      <td>Grand Theft Auto V is a vast open world game s...</td>\n",
       "    </tr>\n",
       "    <tr>\n",
       "      <th>1</th>\n",
       "      <td>1942</td>\n",
       "      <td>The Witcher 3: Wild Hunt</td>\n",
       "      <td>main_game</td>\n",
       "      <td>4</td>\n",
       "      <td>2</td>\n",
       "      <td>2015</td>\n",
       "      <td>1516</td>\n",
       "      <td>True</td>\n",
       "      <td>Role-playing (RPG), Adventure</td>\n",
       "      <td>WB Games, Bandai Namco Entertainment, cdp.pl, ...</td>\n",
       "      <td>PC (Microsoft Windows), PlayStation 4, Xbox On...</td>\n",
       "      <td>95.169577</td>\n",
       "      <td>great</td>\n",
       "      <td>2997</td>\n",
       "      <td>RPG and sequel to The Witcher 2 (2011), The Wi...</td>\n",
       "    </tr>\n",
       "    <tr>\n",
       "      <th>2</th>\n",
       "      <td>472</td>\n",
       "      <td>The Elder Scrolls V: Skyrim</td>\n",
       "      <td>main_game</td>\n",
       "      <td>3</td>\n",
       "      <td>0</td>\n",
       "      <td>2011</td>\n",
       "      <td>1046</td>\n",
       "      <td>False</td>\n",
       "      <td>Role-playing (RPG), Adventure</td>\n",
       "      <td>Bethesda Game Studios, Bethesda Softworks</td>\n",
       "      <td>PC (Microsoft Windows), PlayStation 3, Xbox 360</td>\n",
       "      <td>87.508504</td>\n",
       "      <td>great</td>\n",
       "      <td>2567</td>\n",
       "      <td>Skyrim reimagines and revolutionizes the open-...</td>\n",
       "    </tr>\n",
       "  </tbody>\n",
       "</table>\n",
       "</div>"
      ],
      "text/plain": [
       "     id                         name   category  n_dlcs  n_expansions  year  \\\n",
       "0  1020           Grand Theft Auto V  main_game       0             0  2013   \n",
       "1  1942     The Witcher 3: Wild Hunt  main_game       4             2  2015   \n",
       "2   472  The Elder Scrolls V: Skyrim  main_game       3             0  2011   \n",
       "\n",
       "   follows  in_franchise                         genres  \\\n",
       "0     1766          True             Shooter, Adventure   \n",
       "1     1516          True  Role-playing (RPG), Adventure   \n",
       "2     1046         False  Role-playing (RPG), Adventure   \n",
       "\n",
       "                                           companies  \\\n",
       "0  Rockstar North, Rockstar Games, Take-Two Inter...   \n",
       "1  WB Games, Bandai Namco Entertainment, cdp.pl, ...   \n",
       "2          Bethesda Game Studios, Bethesda Softworks   \n",
       "\n",
       "                                           platforms  user_score user_rating  \\\n",
       "0  PC (Microsoft Windows), PlayStation 3, Xbox 36...   90.202388       great   \n",
       "1  PC (Microsoft Windows), PlayStation 4, Xbox On...   95.169577       great   \n",
       "2    PC (Microsoft Windows), PlayStation 3, Xbox 360   87.508504       great   \n",
       "\n",
       "   n_user_reviews                                            summary  \n",
       "0            3369  Grand Theft Auto V is a vast open world game s...  \n",
       "1            2997  RPG and sequel to The Witcher 2 (2011), The Wi...  \n",
       "2            2567  Skyrim reimagines and revolutionizes the open-...  "
      ]
     },
     "execution_count": 5,
     "metadata": {},
     "output_type": "execute_result"
    }
   ],
   "source": [
    "# DataFrame \n",
    "df.head(3)"
   ]
  },
  {
   "cell_type": "code",
   "execution_count": 6,
   "id": "9317eff6",
   "metadata": {
    "code_folding": [
     0
    ]
   },
   "outputs": [
    {
     "name": "stdout",
     "output_type": "stream",
     "text": [
      "<class 'pandas.core.frame.DataFrame'>\n",
      "RangeIndex: 5824 entries, 0 to 5823\n",
      "Data columns (total 15 columns):\n",
      " #   Column          Non-Null Count  Dtype  \n",
      "---  ------          --------------  -----  \n",
      " 0   id              5824 non-null   int64  \n",
      " 1   name            5824 non-null   object \n",
      " 2   category        5824 non-null   object \n",
      " 3   n_dlcs          5824 non-null   int64  \n",
      " 4   n_expansions    5824 non-null   int64  \n",
      " 5   year            5824 non-null   int64  \n",
      " 6   follows         5824 non-null   int64  \n",
      " 7   in_franchise    5824 non-null   bool   \n",
      " 8   genres          5803 non-null   object \n",
      " 9   companies       5781 non-null   object \n",
      " 10  platforms       5824 non-null   object \n",
      " 11  user_score      5824 non-null   float64\n",
      " 12  user_rating     5824 non-null   object \n",
      " 13  n_user_reviews  5824 non-null   int64  \n",
      " 14  summary         5816 non-null   object \n",
      "dtypes: bool(1), float64(1), int64(6), object(7)\n",
      "memory usage: 642.8+ KB\n"
     ]
    }
   ],
   "source": [
    "# Info do DataFrame \n",
    "df.info()"
   ]
  },
  {
   "cell_type": "code",
   "execution_count": 7,
   "id": "0e8b26e7",
   "metadata": {
    "code_folding": []
   },
   "outputs": [
    {
     "name": "stdout",
     "output_type": "stream",
     "text": [
      "Atributo\t  Contem NaN?\n",
      "\n",
      "id                False\n",
      "name              False\n",
      "category          False\n",
      "n_dlcs            False\n",
      "n_expansions      False\n",
      "year              False\n",
      "follows           False\n",
      "in_franchise      False\n",
      "genres             True\n",
      "companies          True\n",
      "platforms         False\n",
      "user_score        False\n",
      "user_rating       False\n",
      "n_user_reviews    False\n",
      "summary            True\n",
      "dtype: bool\n",
      "\n",
      "Nº de NaN Values: 72\n",
      "Nº de Null Values: 72\n"
     ]
    }
   ],
   "source": [
    "# Atributos que apresentam NaN values \n",
    "print(f\"Atributo\\t  Contem NaN?\\n\")\n",
    "print(df.isna().any())\n",
    "print(f\"\\nNº de NaN Values: {(df.isna().sum()).sum()}\")\n",
    "print(f\"Nº de Null Values: {(df.isnull().sum()).sum()}\")"
   ]
  },
  {
   "cell_type": "code",
   "execution_count": 8,
   "id": "f3e6e2bd",
   "metadata": {
    "code_folding": []
   },
   "outputs": [],
   "source": [
    "# Remoção de Valores Repetidos ou NaN \n",
    "\n",
    "# Dado a quantidade reduzida de valores NaN e Null\n",
    "# (face às ~6000 entradas do dataset),\n",
    "# podemos remover as entradas correspondentes,\n",
    "# visto não ir afetar a performance dos modelos preditivos\n",
    "\n",
    "df.drop_duplicates(inplace=True)\n",
    "df.dropna(how='any', axis=0, inplace=True)"
   ]
  },
  {
   "cell_type": "code",
   "execution_count": 9,
   "id": "6c5cdee7",
   "metadata": {
    "code_folding": [],
    "scrolled": true
   },
   "outputs": [
    {
     "name": "stdout",
     "output_type": "stream",
     "text": [
      "\t\tAttribute: genres\n",
      "\n",
      "0               [Shooter, Adventure]\n",
      "1    [Role-playing (RPG), Adventure]\n",
      "2    [Role-playing (RPG), Adventure]\n",
      "Name: genres, dtype: object\n",
      "\n",
      "\t\tAttribute: companies\n",
      "\n",
      "0    [Rockstar North, Rockstar Games, Take-Two Inte...\n",
      "1    [WB Games, Bandai Namco Entertainment, cdp.pl,...\n",
      "2          [Bethesda Game Studios, Bethesda Softworks]\n",
      "Name: companies, dtype: object\n",
      "\n",
      "\t\tAttribute: platforms\n",
      "\n",
      "0    [PC (Microsoft Windows), PlayStation 3, Xbox 3...\n",
      "1    [PC (Microsoft Windows), PlayStation 4, Xbox O...\n",
      "2    [PC (Microsoft Windows), PlayStation 3, Xbox 360]\n",
      "Name: platforms, dtype: object\n",
      "\n"
     ]
    }
   ],
   "source": [
    "# Conversão de Str to List de Alguns Atributos \n",
    "\n",
    "Attributes_Str_To_List = ['genres', 'companies', 'platforms']\n",
    "for i in Attributes_Str_To_List:\n",
    "    df[i] = df[i].str.split(\", \")\n",
    "\n",
    "for k in Attributes_Str_To_List:\n",
    "    print(f\"\\t\\tAttribute: {k}\\n\")\n",
    "    print(df[k].head(3))\n",
    "    print()"
   ]
  },
  {
   "cell_type": "code",
   "execution_count": 10,
   "id": "1e4638a6",
   "metadata": {
    "code_folding": [],
    "scrolled": true
   },
   "outputs": [
    {
     "data": {
      "text/plain": [
       "0    1\n",
       "1    1\n",
       "2    0\n",
       "Name: in_franchise, dtype: int64"
      ]
     },
     "execution_count": 10,
     "metadata": {},
     "output_type": "execute_result"
    }
   ],
   "source": [
    "# Conversão do Atributo 'In_Franchise' para int \n",
    "# (True -> 1 || False -> 0)\n",
    "\n",
    "atr = \"in_franchise\"\n",
    "df[atr] = df[atr].apply(lambda x: x==True).astype('int64')\n",
    "df[atr].head(3)"
   ]
  },
  {
   "cell_type": "code",
   "execution_count": 11,
   "id": "e20faade",
   "metadata": {
    "code_folding": [],
    "scrolled": false
   },
   "outputs": [],
   "source": [
    "# NEW ATTRIBUTE -> AGE\n",
    "df.insert(4, 'age', 2023-df['year'])"
   ]
  },
  {
   "cell_type": "code",
   "execution_count": 12,
   "id": "4447e949",
   "metadata": {
    "code_folding": []
   },
   "outputs": [],
   "source": [
    "# NEW ATTRIBUTE -> N_GENRES\n",
    "df.insert(8, 'n_genres', df['genres'].apply(lambda x: len(x)))"
   ]
  },
  {
   "cell_type": "code",
   "execution_count": 13,
   "id": "69720fbb",
   "metadata": {
    "code_folding": []
   },
   "outputs": [],
   "source": [
    "# NEW ATTRIBUTE -> N_COMPANIES\n",
    "df.insert(10, 'n_companies', df['companies'].apply(lambda x: len(x)))"
   ]
  },
  {
   "cell_type": "code",
   "execution_count": 14,
   "id": "9d0aa42f",
   "metadata": {
    "code_folding": []
   },
   "outputs": [
    {
     "data": {
      "text/html": [
       "<div>\n",
       "<style scoped>\n",
       "    .dataframe tbody tr th:only-of-type {\n",
       "        vertical-align: middle;\n",
       "    }\n",
       "\n",
       "    .dataframe tbody tr th {\n",
       "        vertical-align: top;\n",
       "    }\n",
       "\n",
       "    .dataframe thead th {\n",
       "        text-align: right;\n",
       "    }\n",
       "</style>\n",
       "<table border=\"1\" class=\"dataframe\">\n",
       "  <thead>\n",
       "    <tr style=\"text-align: right;\">\n",
       "      <th></th>\n",
       "      <th>id</th>\n",
       "      <th>name</th>\n",
       "      <th>category</th>\n",
       "      <th>n_dlcs</th>\n",
       "      <th>age</th>\n",
       "      <th>n_expansions</th>\n",
       "      <th>year</th>\n",
       "      <th>follows</th>\n",
       "      <th>n_genres</th>\n",
       "      <th>in_franchise</th>\n",
       "      <th>n_companies</th>\n",
       "      <th>genres</th>\n",
       "      <th>n_platforms</th>\n",
       "      <th>companies</th>\n",
       "      <th>platforms</th>\n",
       "      <th>user_score</th>\n",
       "      <th>user_rating</th>\n",
       "      <th>n_user_reviews</th>\n",
       "      <th>summary</th>\n",
       "    </tr>\n",
       "  </thead>\n",
       "  <tbody>\n",
       "    <tr>\n",
       "      <th>0</th>\n",
       "      <td>1020</td>\n",
       "      <td>Grand Theft Auto V</td>\n",
       "      <td>main_game</td>\n",
       "      <td>0</td>\n",
       "      <td>10</td>\n",
       "      <td>0</td>\n",
       "      <td>2013</td>\n",
       "      <td>1766</td>\n",
       "      <td>2</td>\n",
       "      <td>1</td>\n",
       "      <td>3</td>\n",
       "      <td>[Shooter, Adventure]</td>\n",
       "      <td>7</td>\n",
       "      <td>[Rockstar North, Rockstar Games, Take-Two Inte...</td>\n",
       "      <td>[PC (Microsoft Windows), PlayStation 3, Xbox 3...</td>\n",
       "      <td>90.202388</td>\n",
       "      <td>great</td>\n",
       "      <td>3369</td>\n",
       "      <td>Grand Theft Auto V is a vast open world game s...</td>\n",
       "    </tr>\n",
       "    <tr>\n",
       "      <th>1</th>\n",
       "      <td>1942</td>\n",
       "      <td>The Witcher 3: Wild Hunt</td>\n",
       "      <td>main_game</td>\n",
       "      <td>4</td>\n",
       "      <td>8</td>\n",
       "      <td>2</td>\n",
       "      <td>2015</td>\n",
       "      <td>1516</td>\n",
       "      <td>2</td>\n",
       "      <td>1</td>\n",
       "      <td>6</td>\n",
       "      <td>[Role-playing (RPG), Adventure]</td>\n",
       "      <td>4</td>\n",
       "      <td>[WB Games, Bandai Namco Entertainment, cdp.pl,...</td>\n",
       "      <td>[PC (Microsoft Windows), PlayStation 4, Xbox O...</td>\n",
       "      <td>95.169577</td>\n",
       "      <td>great</td>\n",
       "      <td>2997</td>\n",
       "      <td>RPG and sequel to The Witcher 2 (2011), The Wi...</td>\n",
       "    </tr>\n",
       "    <tr>\n",
       "      <th>2</th>\n",
       "      <td>472</td>\n",
       "      <td>The Elder Scrolls V: Skyrim</td>\n",
       "      <td>main_game</td>\n",
       "      <td>3</td>\n",
       "      <td>12</td>\n",
       "      <td>0</td>\n",
       "      <td>2011</td>\n",
       "      <td>1046</td>\n",
       "      <td>2</td>\n",
       "      <td>0</td>\n",
       "      <td>2</td>\n",
       "      <td>[Role-playing (RPG), Adventure]</td>\n",
       "      <td>3</td>\n",
       "      <td>[Bethesda Game Studios, Bethesda Softworks]</td>\n",
       "      <td>[PC (Microsoft Windows), PlayStation 3, Xbox 360]</td>\n",
       "      <td>87.508504</td>\n",
       "      <td>great</td>\n",
       "      <td>2567</td>\n",
       "      <td>Skyrim reimagines and revolutionizes the open-...</td>\n",
       "    </tr>\n",
       "  </tbody>\n",
       "</table>\n",
       "</div>"
      ],
      "text/plain": [
       "     id                         name   category  n_dlcs  age  n_expansions  \\\n",
       "0  1020           Grand Theft Auto V  main_game       0   10             0   \n",
       "1  1942     The Witcher 3: Wild Hunt  main_game       4    8             2   \n",
       "2   472  The Elder Scrolls V: Skyrim  main_game       3   12             0   \n",
       "\n",
       "   year  follows  n_genres  in_franchise  n_companies  \\\n",
       "0  2013     1766         2             1            3   \n",
       "1  2015     1516         2             1            6   \n",
       "2  2011     1046         2             0            2   \n",
       "\n",
       "                            genres  n_platforms  \\\n",
       "0             [Shooter, Adventure]            7   \n",
       "1  [Role-playing (RPG), Adventure]            4   \n",
       "2  [Role-playing (RPG), Adventure]            3   \n",
       "\n",
       "                                           companies  \\\n",
       "0  [Rockstar North, Rockstar Games, Take-Two Inte...   \n",
       "1  [WB Games, Bandai Namco Entertainment, cdp.pl,...   \n",
       "2        [Bethesda Game Studios, Bethesda Softworks]   \n",
       "\n",
       "                                           platforms  user_score user_rating  \\\n",
       "0  [PC (Microsoft Windows), PlayStation 3, Xbox 3...   90.202388       great   \n",
       "1  [PC (Microsoft Windows), PlayStation 4, Xbox O...   95.169577       great   \n",
       "2  [PC (Microsoft Windows), PlayStation 3, Xbox 360]   87.508504       great   \n",
       "\n",
       "   n_user_reviews                                            summary  \n",
       "0            3369  Grand Theft Auto V is a vast open world game s...  \n",
       "1            2997  RPG and sequel to The Witcher 2 (2011), The Wi...  \n",
       "2            2567  Skyrim reimagines and revolutionizes the open-...  "
      ]
     },
     "execution_count": 14,
     "metadata": {},
     "output_type": "execute_result"
    }
   ],
   "source": [
    "# NEW ATTRIBUTE -> N_PLATFORMS\n",
    "df.insert(12, 'n_platforms', df['platforms'].apply(lambda x: len(x)))\n",
    "df.head(3)"
   ]
  },
  {
   "cell_type": "code",
   "execution_count": 15,
   "id": "ed016bc9",
   "metadata": {
    "scrolled": true
   },
   "outputs": [
    {
     "data": {
      "text/html": [
       "<div>\n",
       "<style scoped>\n",
       "    .dataframe tbody tr th:only-of-type {\n",
       "        vertical-align: middle;\n",
       "    }\n",
       "\n",
       "    .dataframe tbody tr th {\n",
       "        vertical-align: top;\n",
       "    }\n",
       "\n",
       "    .dataframe thead th {\n",
       "        text-align: right;\n",
       "    }\n",
       "</style>\n",
       "<table border=\"1\" class=\"dataframe\">\n",
       "  <thead>\n",
       "    <tr style=\"text-align: right;\">\n",
       "      <th></th>\n",
       "      <th>id</th>\n",
       "      <th>n_dlcs</th>\n",
       "      <th>age</th>\n",
       "      <th>n_expansions</th>\n",
       "      <th>year</th>\n",
       "      <th>follows</th>\n",
       "      <th>n_genres</th>\n",
       "      <th>in_franchise</th>\n",
       "      <th>n_companies</th>\n",
       "      <th>n_platforms</th>\n",
       "      <th>user_score</th>\n",
       "      <th>n_user_reviews</th>\n",
       "    </tr>\n",
       "  </thead>\n",
       "  <tbody>\n",
       "    <tr>\n",
       "      <th>id</th>\n",
       "      <td>1.000000</td>\n",
       "      <td>0.029892</td>\n",
       "      <td>-0.428662</td>\n",
       "      <td>-0.029153</td>\n",
       "      <td>0.428662</td>\n",
       "      <td>-0.101252</td>\n",
       "      <td>0.057499</td>\n",
       "      <td>-0.032157</td>\n",
       "      <td>-0.141570</td>\n",
       "      <td>-0.016876</td>\n",
       "      <td>0.051787</td>\n",
       "      <td>-0.125050</td>\n",
       "    </tr>\n",
       "    <tr>\n",
       "      <th>n_dlcs</th>\n",
       "      <td>0.029892</td>\n",
       "      <td>1.000000</td>\n",
       "      <td>-0.159270</td>\n",
       "      <td>0.185289</td>\n",
       "      <td>0.159270</td>\n",
       "      <td>0.157291</td>\n",
       "      <td>0.053421</td>\n",
       "      <td>0.004488</td>\n",
       "      <td>0.019880</td>\n",
       "      <td>0.030501</td>\n",
       "      <td>0.017704</td>\n",
       "      <td>0.138951</td>\n",
       "    </tr>\n",
       "    <tr>\n",
       "      <th>age</th>\n",
       "      <td>-0.428662</td>\n",
       "      <td>-0.159270</td>\n",
       "      <td>1.000000</td>\n",
       "      <td>-0.028846</td>\n",
       "      <td>-1.000000</td>\n",
       "      <td>-0.096327</td>\n",
       "      <td>-0.255507</td>\n",
       "      <td>0.157911</td>\n",
       "      <td>0.269817</td>\n",
       "      <td>0.145652</td>\n",
       "      <td>-0.006355</td>\n",
       "      <td>-0.039347</td>\n",
       "    </tr>\n",
       "    <tr>\n",
       "      <th>age</th>\n",
       "      <td>-0.428662</td>\n",
       "      <td>-0.159270</td>\n",
       "      <td>1.000000</td>\n",
       "      <td>-0.028846</td>\n",
       "      <td>-1.000000</td>\n",
       "      <td>-0.096327</td>\n",
       "      <td>-0.255507</td>\n",
       "      <td>0.157911</td>\n",
       "      <td>0.269817</td>\n",
       "      <td>0.145652</td>\n",
       "      <td>-0.006355</td>\n",
       "      <td>-0.039347</td>\n",
       "    </tr>\n",
       "    <tr>\n",
       "      <th>n_expansions</th>\n",
       "      <td>-0.029153</td>\n",
       "      <td>0.185289</td>\n",
       "      <td>-0.028846</td>\n",
       "      <td>1.000000</td>\n",
       "      <td>0.028846</td>\n",
       "      <td>0.104547</td>\n",
       "      <td>0.024458</td>\n",
       "      <td>0.012431</td>\n",
       "      <td>0.023392</td>\n",
       "      <td>-0.007658</td>\n",
       "      <td>0.053446</td>\n",
       "      <td>0.082889</td>\n",
       "    </tr>\n",
       "    <tr>\n",
       "      <th>year</th>\n",
       "      <td>0.428662</td>\n",
       "      <td>0.159270</td>\n",
       "      <td>-1.000000</td>\n",
       "      <td>0.028846</td>\n",
       "      <td>1.000000</td>\n",
       "      <td>0.096327</td>\n",
       "      <td>0.255507</td>\n",
       "      <td>-0.157911</td>\n",
       "      <td>-0.269817</td>\n",
       "      <td>-0.145652</td>\n",
       "      <td>0.006355</td>\n",
       "      <td>0.039347</td>\n",
       "    </tr>\n",
       "    <tr>\n",
       "      <th>year</th>\n",
       "      <td>0.428662</td>\n",
       "      <td>0.159270</td>\n",
       "      <td>-1.000000</td>\n",
       "      <td>0.028846</td>\n",
       "      <td>1.000000</td>\n",
       "      <td>0.096327</td>\n",
       "      <td>0.255507</td>\n",
       "      <td>-0.157911</td>\n",
       "      <td>-0.269817</td>\n",
       "      <td>-0.145652</td>\n",
       "      <td>0.006355</td>\n",
       "      <td>0.039347</td>\n",
       "    </tr>\n",
       "    <tr>\n",
       "      <th>follows</th>\n",
       "      <td>-0.101252</td>\n",
       "      <td>0.157291</td>\n",
       "      <td>-0.096327</td>\n",
       "      <td>0.104547</td>\n",
       "      <td>0.096327</td>\n",
       "      <td>1.000000</td>\n",
       "      <td>-0.000083</td>\n",
       "      <td>0.103358</td>\n",
       "      <td>0.104991</td>\n",
       "      <td>0.061845</td>\n",
       "      <td>0.237060</td>\n",
       "      <td>0.945731</td>\n",
       "    </tr>\n",
       "    <tr>\n",
       "      <th>follows</th>\n",
       "      <td>-0.101252</td>\n",
       "      <td>0.157291</td>\n",
       "      <td>-0.096327</td>\n",
       "      <td>0.104547</td>\n",
       "      <td>0.096327</td>\n",
       "      <td>1.000000</td>\n",
       "      <td>-0.000083</td>\n",
       "      <td>0.103358</td>\n",
       "      <td>0.104991</td>\n",
       "      <td>0.061845</td>\n",
       "      <td>0.237060</td>\n",
       "      <td>0.945731</td>\n",
       "    </tr>\n",
       "    <tr>\n",
       "      <th>n_genres</th>\n",
       "      <td>0.057499</td>\n",
       "      <td>0.053421</td>\n",
       "      <td>-0.255507</td>\n",
       "      <td>0.024458</td>\n",
       "      <td>0.255507</td>\n",
       "      <td>-0.000083</td>\n",
       "      <td>1.000000</td>\n",
       "      <td>-0.156999</td>\n",
       "      <td>-0.089971</td>\n",
       "      <td>0.136783</td>\n",
       "      <td>0.035233</td>\n",
       "      <td>-0.014419</td>\n",
       "    </tr>\n",
       "    <tr>\n",
       "      <th>in_franchise</th>\n",
       "      <td>-0.032157</td>\n",
       "      <td>0.004488</td>\n",
       "      <td>0.157911</td>\n",
       "      <td>0.012431</td>\n",
       "      <td>-0.157911</td>\n",
       "      <td>0.103358</td>\n",
       "      <td>-0.156999</td>\n",
       "      <td>1.000000</td>\n",
       "      <td>0.080943</td>\n",
       "      <td>-0.100596</td>\n",
       "      <td>0.040939</td>\n",
       "      <td>0.128586</td>\n",
       "    </tr>\n",
       "    <tr>\n",
       "      <th>n_companies</th>\n",
       "      <td>-0.141570</td>\n",
       "      <td>0.019880</td>\n",
       "      <td>0.269817</td>\n",
       "      <td>0.023392</td>\n",
       "      <td>-0.269817</td>\n",
       "      <td>0.104991</td>\n",
       "      <td>-0.089971</td>\n",
       "      <td>0.080943</td>\n",
       "      <td>1.000000</td>\n",
       "      <td>0.382601</td>\n",
       "      <td>0.015139</td>\n",
       "      <td>0.125002</td>\n",
       "    </tr>\n",
       "    <tr>\n",
       "      <th>n_platforms</th>\n",
       "      <td>-0.016876</td>\n",
       "      <td>0.030501</td>\n",
       "      <td>0.145652</td>\n",
       "      <td>-0.007658</td>\n",
       "      <td>-0.145652</td>\n",
       "      <td>0.061845</td>\n",
       "      <td>0.136783</td>\n",
       "      <td>-0.100596</td>\n",
       "      <td>0.382601</td>\n",
       "      <td>1.000000</td>\n",
       "      <td>-0.037953</td>\n",
       "      <td>0.078826</td>\n",
       "    </tr>\n",
       "    <tr>\n",
       "      <th>user_score</th>\n",
       "      <td>0.051787</td>\n",
       "      <td>0.017704</td>\n",
       "      <td>-0.006355</td>\n",
       "      <td>0.053446</td>\n",
       "      <td>0.006355</td>\n",
       "      <td>0.237060</td>\n",
       "      <td>0.035233</td>\n",
       "      <td>0.040939</td>\n",
       "      <td>0.015139</td>\n",
       "      <td>-0.037953</td>\n",
       "      <td>1.000000</td>\n",
       "      <td>0.247787</td>\n",
       "    </tr>\n",
       "    <tr>\n",
       "      <th>n_user_reviews</th>\n",
       "      <td>-0.125050</td>\n",
       "      <td>0.138951</td>\n",
       "      <td>-0.039347</td>\n",
       "      <td>0.082889</td>\n",
       "      <td>0.039347</td>\n",
       "      <td>0.945731</td>\n",
       "      <td>-0.014419</td>\n",
       "      <td>0.128586</td>\n",
       "      <td>0.125002</td>\n",
       "      <td>0.078826</td>\n",
       "      <td>0.247787</td>\n",
       "      <td>1.000000</td>\n",
       "    </tr>\n",
       "    <tr>\n",
       "      <th>n_user_reviews</th>\n",
       "      <td>-0.125050</td>\n",
       "      <td>0.138951</td>\n",
       "      <td>-0.039347</td>\n",
       "      <td>0.082889</td>\n",
       "      <td>0.039347</td>\n",
       "      <td>0.945731</td>\n",
       "      <td>-0.014419</td>\n",
       "      <td>0.128586</td>\n",
       "      <td>0.125002</td>\n",
       "      <td>0.078826</td>\n",
       "      <td>0.247787</td>\n",
       "      <td>1.000000</td>\n",
       "    </tr>\n",
       "  </tbody>\n",
       "</table>\n",
       "</div>"
      ],
      "text/plain": [
       "                      id    n_dlcs       age  n_expansions      year  \\\n",
       "id              1.000000  0.029892 -0.428662     -0.029153  0.428662   \n",
       "n_dlcs          0.029892  1.000000 -0.159270      0.185289  0.159270   \n",
       "age            -0.428662 -0.159270  1.000000     -0.028846 -1.000000   \n",
       "age            -0.428662 -0.159270  1.000000     -0.028846 -1.000000   \n",
       "n_expansions   -0.029153  0.185289 -0.028846      1.000000  0.028846   \n",
       "year            0.428662  0.159270 -1.000000      0.028846  1.000000   \n",
       "year            0.428662  0.159270 -1.000000      0.028846  1.000000   \n",
       "follows        -0.101252  0.157291 -0.096327      0.104547  0.096327   \n",
       "follows        -0.101252  0.157291 -0.096327      0.104547  0.096327   \n",
       "n_genres        0.057499  0.053421 -0.255507      0.024458  0.255507   \n",
       "in_franchise   -0.032157  0.004488  0.157911      0.012431 -0.157911   \n",
       "n_companies    -0.141570  0.019880  0.269817      0.023392 -0.269817   \n",
       "n_platforms    -0.016876  0.030501  0.145652     -0.007658 -0.145652   \n",
       "user_score      0.051787  0.017704 -0.006355      0.053446  0.006355   \n",
       "n_user_reviews -0.125050  0.138951 -0.039347      0.082889  0.039347   \n",
       "n_user_reviews -0.125050  0.138951 -0.039347      0.082889  0.039347   \n",
       "\n",
       "                 follows  n_genres  in_franchise  n_companies  n_platforms  \\\n",
       "id             -0.101252  0.057499     -0.032157    -0.141570    -0.016876   \n",
       "n_dlcs          0.157291  0.053421      0.004488     0.019880     0.030501   \n",
       "age            -0.096327 -0.255507      0.157911     0.269817     0.145652   \n",
       "age            -0.096327 -0.255507      0.157911     0.269817     0.145652   \n",
       "n_expansions    0.104547  0.024458      0.012431     0.023392    -0.007658   \n",
       "year            0.096327  0.255507     -0.157911    -0.269817    -0.145652   \n",
       "year            0.096327  0.255507     -0.157911    -0.269817    -0.145652   \n",
       "follows         1.000000 -0.000083      0.103358     0.104991     0.061845   \n",
       "follows         1.000000 -0.000083      0.103358     0.104991     0.061845   \n",
       "n_genres       -0.000083  1.000000     -0.156999    -0.089971     0.136783   \n",
       "in_franchise    0.103358 -0.156999      1.000000     0.080943    -0.100596   \n",
       "n_companies     0.104991 -0.089971      0.080943     1.000000     0.382601   \n",
       "n_platforms     0.061845  0.136783     -0.100596     0.382601     1.000000   \n",
       "user_score      0.237060  0.035233      0.040939     0.015139    -0.037953   \n",
       "n_user_reviews  0.945731 -0.014419      0.128586     0.125002     0.078826   \n",
       "n_user_reviews  0.945731 -0.014419      0.128586     0.125002     0.078826   \n",
       "\n",
       "                user_score  n_user_reviews  \n",
       "id                0.051787       -0.125050  \n",
       "n_dlcs            0.017704        0.138951  \n",
       "age              -0.006355       -0.039347  \n",
       "age              -0.006355       -0.039347  \n",
       "n_expansions      0.053446        0.082889  \n",
       "year              0.006355        0.039347  \n",
       "year              0.006355        0.039347  \n",
       "follows           0.237060        0.945731  \n",
       "follows           0.237060        0.945731  \n",
       "n_genres          0.035233       -0.014419  \n",
       "in_franchise      0.040939        0.128586  \n",
       "n_companies       0.015139        0.125002  \n",
       "n_platforms      -0.037953        0.078826  \n",
       "user_score        1.000000        0.247787  \n",
       "n_user_reviews    0.247787        1.000000  \n",
       "n_user_reviews    0.247787        1.000000  "
      ]
     },
     "execution_count": 15,
     "metadata": {},
     "output_type": "execute_result"
    }
   ],
   "source": [
    "# De forma a avaliar a Avaliar\n",
    "# a necessidade dos atributos nos modelos preditivos,\n",
    "# recorreu-se a uma matriz de correlação\n",
    "corr_df = df.corr()\n",
    "corr_df.loc[(corr_df.values < -0.9) | (corr_df.values > 0.9)]"
   ]
  },
  {
   "cell_type": "code",
   "execution_count": 16,
   "id": "63c7f21c",
   "metadata": {
    "code_folding": [],
    "scrolled": true
   },
   "outputs": [
    {
     "data": {
      "text/html": [
       "<div>\n",
       "<style scoped>\n",
       "    .dataframe tbody tr th:only-of-type {\n",
       "        vertical-align: middle;\n",
       "    }\n",
       "\n",
       "    .dataframe tbody tr th {\n",
       "        vertical-align: top;\n",
       "    }\n",
       "\n",
       "    .dataframe thead th {\n",
       "        text-align: right;\n",
       "    }\n",
       "</style>\n",
       "<table border=\"1\" class=\"dataframe\">\n",
       "  <thead>\n",
       "    <tr style=\"text-align: right;\">\n",
       "      <th></th>\n",
       "      <th>name</th>\n",
       "      <th>n_dlcs</th>\n",
       "      <th>age</th>\n",
       "      <th>n_expansions</th>\n",
       "      <th>follows</th>\n",
       "      <th>n_genres</th>\n",
       "      <th>in_franchise</th>\n",
       "      <th>n_companies</th>\n",
       "      <th>genres</th>\n",
       "      <th>n_platforms</th>\n",
       "      <th>companies</th>\n",
       "      <th>platforms</th>\n",
       "      <th>user_rating</th>\n",
       "      <th>n_user_reviews</th>\n",
       "    </tr>\n",
       "  </thead>\n",
       "  <tbody>\n",
       "    <tr>\n",
       "      <th>0</th>\n",
       "      <td>Grand Theft Auto V</td>\n",
       "      <td>0</td>\n",
       "      <td>10</td>\n",
       "      <td>0</td>\n",
       "      <td>1766</td>\n",
       "      <td>2</td>\n",
       "      <td>1</td>\n",
       "      <td>3</td>\n",
       "      <td>[Shooter, Adventure]</td>\n",
       "      <td>7</td>\n",
       "      <td>[Rockstar North, Rockstar Games, Take-Two Inte...</td>\n",
       "      <td>[PC (Microsoft Windows), PlayStation 3, Xbox 3...</td>\n",
       "      <td>great</td>\n",
       "      <td>3369</td>\n",
       "    </tr>\n",
       "    <tr>\n",
       "      <th>1</th>\n",
       "      <td>The Witcher 3: Wild Hunt</td>\n",
       "      <td>4</td>\n",
       "      <td>8</td>\n",
       "      <td>2</td>\n",
       "      <td>1516</td>\n",
       "      <td>2</td>\n",
       "      <td>1</td>\n",
       "      <td>6</td>\n",
       "      <td>[Role-playing (RPG), Adventure]</td>\n",
       "      <td>4</td>\n",
       "      <td>[WB Games, Bandai Namco Entertainment, cdp.pl,...</td>\n",
       "      <td>[PC (Microsoft Windows), PlayStation 4, Xbox O...</td>\n",
       "      <td>great</td>\n",
       "      <td>2997</td>\n",
       "    </tr>\n",
       "    <tr>\n",
       "      <th>2</th>\n",
       "      <td>The Elder Scrolls V: Skyrim</td>\n",
       "      <td>3</td>\n",
       "      <td>12</td>\n",
       "      <td>0</td>\n",
       "      <td>1046</td>\n",
       "      <td>2</td>\n",
       "      <td>0</td>\n",
       "      <td>2</td>\n",
       "      <td>[Role-playing (RPG), Adventure]</td>\n",
       "      <td>3</td>\n",
       "      <td>[Bethesda Game Studios, Bethesda Softworks]</td>\n",
       "      <td>[PC (Microsoft Windows), PlayStation 3, Xbox 360]</td>\n",
       "      <td>great</td>\n",
       "      <td>2567</td>\n",
       "    </tr>\n",
       "  </tbody>\n",
       "</table>\n",
       "</div>"
      ],
      "text/plain": [
       "                          name  n_dlcs  age  n_expansions  follows  n_genres  \\\n",
       "0           Grand Theft Auto V       0   10             0     1766         2   \n",
       "1     The Witcher 3: Wild Hunt       4    8             2     1516         2   \n",
       "2  The Elder Scrolls V: Skyrim       3   12             0     1046         2   \n",
       "\n",
       "   in_franchise  n_companies                           genres  n_platforms  \\\n",
       "0             1            3             [Shooter, Adventure]            7   \n",
       "1             1            6  [Role-playing (RPG), Adventure]            4   \n",
       "2             0            2  [Role-playing (RPG), Adventure]            3   \n",
       "\n",
       "                                           companies  \\\n",
       "0  [Rockstar North, Rockstar Games, Take-Two Inte...   \n",
       "1  [WB Games, Bandai Namco Entertainment, cdp.pl,...   \n",
       "2        [Bethesda Game Studios, Bethesda Softworks]   \n",
       "\n",
       "                                           platforms user_rating  \\\n",
       "0  [PC (Microsoft Windows), PlayStation 3, Xbox 3...       great   \n",
       "1  [PC (Microsoft Windows), PlayStation 4, Xbox O...       great   \n",
       "2  [PC (Microsoft Windows), PlayStation 3, Xbox 360]       great   \n",
       "\n",
       "   n_user_reviews  \n",
       "0            3369  \n",
       "1            2997  \n",
       "2            2567  "
      ]
     },
     "execution_count": 16,
     "metadata": {},
     "output_type": "execute_result"
    }
   ],
   "source": [
    "# Remoção de Colunas Desnecessárias \n",
    "del df[\"summary\"]\n",
    "del df[\"id\"]\n",
    "del df[\"category\"]\n",
    "del df['year']\n",
    "del df['user_score']\n",
    "# del df['follows']\n",
    "df.head(3)"
   ]
  },
  {
   "cell_type": "code",
   "execution_count": 17,
   "id": "66762d57",
   "metadata": {
    "code_folding": []
   },
   "outputs": [
    {
     "data": {
      "text/plain": [
       "name              object\n",
       "n_dlcs             int64\n",
       "age                int64\n",
       "n_expansions       int64\n",
       "follows            int64\n",
       "n_genres           int64\n",
       "in_franchise       int64\n",
       "n_companies        int64\n",
       "genres            object\n",
       "n_platforms        int64\n",
       "companies         object\n",
       "platforms         object\n",
       "user_rating       object\n",
       "n_user_reviews     int64\n",
       "dtype: object"
      ]
     },
     "execution_count": 17,
     "metadata": {},
     "output_type": "execute_result"
    }
   ],
   "source": [
    "# Agrupamento/Categorização dos Atributos \n",
    "# Categorical Columns/Attributes\n",
    "cat_columns = ['name',\n",
    "              'genres',\n",
    "              'companies',\n",
    "              'platforms',\n",
    "              'user_rating']\n",
    "\n",
    "# Numerical Columns/Attributes\n",
    "num_columns = ['n_dlcs',\n",
    "               'age',\n",
    "               'n_expansions',\n",
    "               'follows',\n",
    "               'n_genres',\n",
    "               'in_franchise',\n",
    "               'n_companies',\n",
    "               'n_platforms'\n",
    "               'n_user_reviews']\n",
    "df.dtypes"
   ]
  },
  {
   "cell_type": "markdown",
   "id": "32caad84",
   "metadata": {},
   "source": [
    "\n",
    "## <center>Visualização de Dados</center>"
   ]
  },
  {
   "cell_type": "code",
   "execution_count": 18,
   "id": "73808d8f",
   "metadata": {},
   "outputs": [
    {
     "data": {
      "text/plain": [
       "<AxesSubplot:xlabel='age', ylabel='n_user_reviews'>"
      ]
     },
     "execution_count": 18,
     "metadata": {},
     "output_type": "execute_result"
    },
    {
     "data": {
      "image/png": "[encoded data removed]",
      "text/plain": [
       "<Figure size 640x480 with 1 Axes>"
      ]
     },
     "metadata": {},
     "output_type": "display_data"
    }
   ],
   "source": [
    "# Lineplot (n_user_reviews / age)\n",
    "sns.lineplot(data=df,\n",
    "             x='age',\n",
    "             y='n_user_reviews',\n",
    "             hue='user_rating',\n",
    "             linestyle='--')\n",
    "\n",
    "# Através deste gráfico é-nos possível identificar \n",
    "# a tendência de que jogos com uma maior quantidade\n",
    "# de reviews tendem a ter uma melhor classifição\n",
    "\n",
    "# Mais ainda, facilmente é possível observar que\n",
    "# jogos mais recemtes tendem a ter uma melhor classificação\n",
    "# e uma maior quantidade de reviews"
   ]
  },
  {
   "cell_type": "code",
   "execution_count": 19,
   "id": "b44ecf29",
   "metadata": {},
   "outputs": [
    {
     "data": {
      "text/plain": [
       "<AxesSubplot:xlabel='age', ylabel='n_expansions'>"
      ]
     },
     "execution_count": 19,
     "metadata": {},
     "output_type": "execute_result"
    },
    {
     "data": {
      "image/png": "[encoded data removed]",
      "text/plain": [
       "<Figure size 640x480 with 1 Axes>"
      ]
     },
     "metadata": {},
     "output_type": "display_data"
    }
   ],
   "source": [
    "# Lineplot (n_expansions / age)\n",
    "sns.lineplot(data=df,\n",
    "             x='age',\n",
    "             y='n_expansions',\n",
    "             hue='user_rating')\n",
    "\n",
    "# Através deste gráfico é-nos possível identificar \n",
    "# a tendência de que apenas os jogos classificados como 'great'\n",
    "# ou 'good' recebem expansões para os respetivos jogos-base (standard-game) "
   ]
  },
  {
   "cell_type": "markdown",
   "id": "c1fd5c4c",
   "metadata": {},
   "source": [
    "# <center> Análise e Criação de Modelos Preditivos </center>"
   ]
  },
  {
   "cell_type": "markdown",
   "id": "33e9d4ee",
   "metadata": {},
   "source": [
    "## <center>Funções Auxiliares</center>"
   ]
  },
  {
   "cell_type": "code",
   "execution_count": 20,
   "id": "1ac20024",
   "metadata": {},
   "outputs": [],
   "source": [
    "# Generic Functions to Analyse the Predictive Models\n",
    "\n",
    "# Function to Save any DT model into a graph\n",
    "def Save_Tree_Diagram(File_Name, Model):\n",
    "    with open(f'Images/{File_Name}.dot', 'w') as out_file:\n",
    "        out_file = tree.export_graphviz(Model, out_file=out_file)\n",
    "\n",
    "# K-Fold Cross Validation Functions\n",
    "def Get_Model_K_Fold_CV_Accuracies(model,X,Y):\n",
    "    # cross_val_score returns a list of the scores, which we can visualize\n",
    "    # to get a reasonable estimate of our classifier's performance\n",
    "    kfold = KFold(n_splits=10)\n",
    "    model_cross_validation_scores = cross_val_score(model,X,Y,cv=kfold)\n",
    "    return model_cross_validation_scores\n",
    "\n",
    "def Plot_Model_K_Fold_Cross_Validation(model_name, model,X,Y,color):\n",
    "    model_cross_validation_scores = Get_Model_K_Fold_CV_Accuracies(model,X,Y)\n",
    "    print(f\"-> {model_name} Accuracy Avg: {model_cross_validation_scores.mean()*100:.3f} (Std: {model_cross_validation_scores.std()*100:.3f})\\n\")\n",
    "    plt.hist(model_cross_validation_scores, color=color)\n",
    "    plt.title(f'{model_name} -> Average Accuracy (%): {np.mean(model_cross_validation_scores)*100: .5f}')\n",
    "    plt.grid(visible=True, linestyle='dashed', linewidth=1.2)\n",
    "    plt.show()\n",
    "    return model_cross_validation_scores\n",
    "\n",
    "# Confusion Matrix\n",
    "def Plot_Confusion_Matrix(Test_Values, Predicted_Values, labels):\n",
    "    Confusion_Matrix = confusion_matrix(Test_Values,\n",
    "                                        Predicted_Values,\n",
    "                                        labels=labels)\n",
    "    Display = ConfusionMatrixDisplay(confusion_matrix=Confusion_Matrix,\n",
    "                                    display_labels=labels)\n",
    "    Display.plot(cmap=plt.cm.Blues)\n",
    "    plt.show()"
   ]
  },
  {
   "cell_type": "code",
   "execution_count": 21,
   "id": "87d945e9",
   "metadata": {},
   "outputs": [],
   "source": [
    "# Functions to get the best classifier for each algorithm\n",
    "def Find_Best_DT_Classifier(X,Y,stratigy=None):\n",
    "    # stratigy - way to evaluate the performance of the cross-validated model on the test set\n",
    "    DT_classifier = DecisionTreeClassifier()\n",
    "    parameter_grid = {'criterion': ['gini', 'entropy'],\n",
    "                      'splitter': ['best', 'random'],\n",
    "                      'max_depth':[1,2,3,4,5],\n",
    "                     'max_features':[1,2,3,4]}\n",
    "\n",
    "    cross_validation = StratifiedKFold(n_splits=10)\n",
    "    grid_search = GridSearchCV(DT_classifier,\n",
    "                              param_grid=parameter_grid,\n",
    "                              cv=cross_validation,\n",
    "                              scoring=stratigy)\n",
    "\n",
    "    grid_search.fit(X,Y)\n",
    "    print(f\"Best Score (%):\\n  -> {grid_search.best_score_*100:.4f}\")\n",
    "\n",
    "    print(f\"Best Parameters:\")\n",
    "    for param in grid_search.best_params_:\n",
    "        print(f\"  -> {param} = {grid_search.best_params_[param]}\")\n",
    "    \n",
    "    DT_classifier = grid_search.best_estimator_\n",
    "    return DT_classifier\n",
    "\n",
    "def Find_Best_KNN_Classifier(X, Y, num_neighbors, stratigy=None):\n",
    "    KNN_Classifier = KNeighborsClassifier(n_neighbors=num_neighbors)\n",
    "    parameter_grid = {'n_neighbors': (1,10, 1),\n",
    "                      'leaf_size': (20,40,1),\n",
    "                      'p': (1,2),\n",
    "                      'weights': ('uniform', 'distance'),\n",
    "                      'metric': ('minkowski', 'chebyshev')},\n",
    "\n",
    "    cross_validation = StratifiedKFold(n_splits=10)\n",
    "    grid_search = GridSearchCV(KNN_Classifier,\n",
    "                              param_grid=parameter_grid,\n",
    "                              cv=cross_validation,\n",
    "                              scoring=stratigy)\n",
    "\n",
    "    grid_search.fit(X,Y)\n",
    "    print(f\"Best Score (%):\\n  -> {grid_search.best_score_*100:.4f}\")\n",
    "    print(f\"Best Parameters:\")\n",
    "    for param in grid_search.best_params_:\n",
    "        print(f\"  -> {param} = {grid_search.best_params_[param]}\")\n",
    "    \n",
    "    KNN_Classifier = grid_search.best_estimator_\n",
    "    return KNN_Classifier\n"
   ]
  },
  {
   "cell_type": "markdown",
   "id": "704a1a87",
   "metadata": {},
   "source": [
    "## <center>Previsão do 'User_Rating' (Decision Tree & KNN) </center>"
   ]
  },
  {
   "cell_type": "markdown",
   "id": "53c7a7f3",
   "metadata": {},
   "source": [
    "### - Criação de subsets para treino e teste de modelos preditivos"
   ]
  },
  {
   "cell_type": "code",
   "execution_count": 22,
   "id": "15eddd53",
   "metadata": {},
   "outputs": [],
   "source": [
    "X = df.drop(columns=cat_columns)\n",
    "Y = df['user_rating']\n",
    "\n",
    "(X_train, X_test,\n",
    " Y_train, Y_test) = train_test_split(X, Y, test_size=0.3)"
   ]
  },
  {
   "cell_type": "markdown",
   "id": "6b066f55",
   "metadata": {},
   "source": [
    "## <center>Decision Tree Classifier</center>"
   ]
  },
  {
   "cell_type": "code",
   "execution_count": 23,
   "id": "9a5d06ca",
   "metadata": {},
   "outputs": [
    {
     "data": {
      "text/plain": [
       "''"
      ]
     },
     "execution_count": 23,
     "metadata": {},
     "output_type": "execute_result"
    }
   ],
   "source": [
    "# Decision Tree Classifier\n",
    "decision_tree = DecisionTreeClassifier()\n",
    "decision_tree.fit(X_train, Y_train)\n",
    ";"
   ]
  },
  {
   "cell_type": "code",
   "execution_count": 24,
   "id": "65052b2e",
   "metadata": {},
   "outputs": [
    {
     "name": "stdout",
     "output_type": "stream",
     "text": [
      "Previsões Corretas: 967/1726\n",
      "Previsões Incorretas: 759/1726\n"
     ]
    }
   ],
   "source": [
    "# Decision Tree - Test Predictions\n",
    "decision_tree_predicted = decision_tree.predict(X_test)\n",
    "total_guesses = decision_tree_predicted.shape[0]\n",
    "correct_guesses = ((decision_tree_predicted == Y_test) == True).sum()\n",
    "incorrect_guesses = ((decision_tree_predicted == Y_test) == False).sum()\n",
    "\n",
    "print(f\"Previsões Corretas: {correct_guesses}/{total_guesses}\")\n",
    "print(f\"Previsões Incorretas: {incorrect_guesses}/{total_guesses}\")"
   ]
  },
  {
   "cell_type": "code",
   "execution_count": 25,
   "id": "85f764c3",
   "metadata": {},
   "outputs": [
    {
     "name": "stdout",
     "output_type": "stream",
     "text": [
      "Decision Tree Train Accuracy (%): 99.9752\n",
      "Decision Tree Test Accuracy (%): 56.0255\n"
     ]
    }
   ],
   "source": [
    "# Decision Tree - Train and Test Accuracies\n",
    "\n",
    "decision_tree_acc_train = decision_tree.score(X_train, Y_train)\n",
    "decision_tree_acc_test = decision_tree.score(X_test, Y_test)\n",
    "\n",
    "print(f\"Decision Tree Train Accuracy (%): {decision_tree_acc_train*100:.4f}\")\n",
    "print(f\"Decision Tree Test Accuracy (%): {decision_tree_acc_test*100:.4f}\")"
   ]
  },
  {
   "cell_type": "code",
   "execution_count": 26,
   "id": "3a224bcc",
   "metadata": {},
   "outputs": [],
   "source": [
    "# In order to save the Decision Tree\n",
    "\n",
    "Save_Tree_Diagram(\"Decision_Tree_Model\",decision_tree)\n",
    "\n",
    "# A Decision Tree Obtida apresenta Milhares de Nós, pelo que não seria fazível a adicionar no notebook"
   ]
  },
  {
   "cell_type": "markdown",
   "id": "a3926a4f",
   "metadata": {},
   "source": [
    "##  <center>KNN Classifier</center>"
   ]
  },
  {
   "cell_type": "code",
   "execution_count": 27,
   "id": "10143482",
   "metadata": {},
   "outputs": [
    {
     "data": {
      "text/plain": [
       "''"
      ]
     },
     "execution_count": 27,
     "metadata": {},
     "output_type": "execute_result"
    }
   ],
   "source": [
    "# KNN Classifier\n",
    "knn = KNeighborsClassifier(n_neighbors=3)\n",
    "knn.fit(X_train,Y_train)\n",
    ";"
   ]
  },
  {
   "cell_type": "code",
   "execution_count": 28,
   "id": "1830cec6",
   "metadata": {},
   "outputs": [
    {
     "name": "stdout",
     "output_type": "stream",
     "text": [
      "Previsões Corretas: 1026/1726\n",
      "Previsões Incorretas: 700/1726\n"
     ]
    }
   ],
   "source": [
    "# KNN - Test Predictions\n",
    "knn_preds_test = knn.predict(X_test)\n",
    "total_guesses = knn_preds_test.shape[0]\n",
    "correct_guesses = ((knn_preds_test == Y_test) == True).sum()\n",
    "incorrect_guesses = ((knn_preds_test == Y_test) == False).sum()\n",
    "\n",
    "print(f\"Previsões Corretas: {correct_guesses}/{total_guesses}\")\n",
    "print(f\"Previsões Incorretas: {incorrect_guesses}/{total_guesses}\")"
   ]
  },
  {
   "cell_type": "code",
   "execution_count": 29,
   "id": "586b05be",
   "metadata": {
    "scrolled": true
   },
   "outputs": [
    {
     "name": "stdout",
     "output_type": "stream",
     "text": [
      "KNN Train Accuracy (%): 79.0415\n",
      "KNN Test Accuracy (%): 59.4438\n"
     ]
    }
   ],
   "source": [
    "# KNN Accuracies - Train and Test Accuracies\n",
    "\n",
    "knn_preds_train = knn.predict(X_train)\n",
    "knn_acc_train = sum(knn_preds_train == Y_train) / len(Y_train)\n",
    "# Equivalente a:\n",
    "knn_acc_train = knn.score(X_train, Y_train)\n",
    "\n",
    "knn_preds_test = knn.predict(X_test)\n",
    "knn_acc_test = sum(knn_preds_test == Y_test) / len(Y_test)\n",
    "# Equivalente a:\n",
    "knn_acc_test = knn.score(X_test,Y_test)\n",
    "\n",
    "print(f\"KNN Train Accuracy (%): {knn_acc_train*100:.4f}\")\n",
    "print(f\"KNN Test Accuracy (%): {knn_acc_test*100:.4f}\")"
   ]
  },
  {
   "cell_type": "markdown",
   "id": "d25454e1",
   "metadata": {},
   "source": [
    "## <center>Comparação dos Modelos Preditivos</center>"
   ]
  },
  {
   "cell_type": "markdown",
   "id": "f8198b68",
   "metadata": {},
   "source": [
    "### <center>Confusion Matrix</center>"
   ]
  },
  {
   "cell_type": "code",
   "execution_count": 30,
   "id": "cfacd06b",
   "metadata": {
    "code_folding": [
     0
    ]
   },
   "outputs": [
    {
     "data": {
      "image/png": "[encoded data removed]",
      "text/plain": [
       "<Figure size 640x480 with 2 Axes>"
      ]
     },
     "metadata": {},
     "output_type": "display_data"
    }
   ],
   "source": [
    "# Confusion Matrix - Decision Tree \n",
    "Plot_Confusion_Matrix(Y_test, \n",
    "                      decision_tree_predicted,\n",
    "                      labels=['bad', 'mediocre', 'good', 'great'])"
   ]
  },
  {
   "cell_type": "code",
   "execution_count": 31,
   "id": "d89cb67d",
   "metadata": {
    "code_folding": [
     0
    ]
   },
   "outputs": [
    {
     "data": {
      "image/png": "[encoded data removed]",
      "text/plain": [
       "<Figure size 640x480 with 2 Axes>"
      ]
     },
     "metadata": {},
     "output_type": "display_data"
    }
   ],
   "source": [
    "# Confusion Matrix - KNN \n",
    "Plot_Confusion_Matrix(Y_test,\n",
    "                      knn_preds_test,\n",
    "                      labels=['bad', 'mediocre', 'good', 'great'])"
   ]
  },
  {
   "cell_type": "markdown",
   "id": "7c034d63",
   "metadata": {},
   "source": [
    "### <center>Precision, Recall, Accuracy</center>"
   ]
  },
  {
   "cell_type": "code",
   "execution_count": 32,
   "id": "6be1592d",
   "metadata": {
    "code_folding": []
   },
   "outputs": [
    {
     "data": {
      "text/html": [
       "<div>\n",
       "<style scoped>\n",
       "    .dataframe tbody tr th:only-of-type {\n",
       "        vertical-align: middle;\n",
       "    }\n",
       "\n",
       "    .dataframe tbody tr th {\n",
       "        vertical-align: top;\n",
       "    }\n",
       "\n",
       "    .dataframe thead th {\n",
       "        text-align: right;\n",
       "    }\n",
       "</style>\n",
       "<table border=\"1\" class=\"dataframe\">\n",
       "  <thead>\n",
       "    <tr style=\"text-align: right;\">\n",
       "      <th></th>\n",
       "      <th>Precision (%)</th>\n",
       "      <th>Recall/Sensitivity (%)</th>\n",
       "      <th>Accuracy (%)</th>\n",
       "    </tr>\n",
       "  </thead>\n",
       "  <tbody>\n",
       "    <tr>\n",
       "      <th>Decision Tree</th>\n",
       "      <td>29.199833</td>\n",
       "      <td>29.158040</td>\n",
       "      <td>56.025492</td>\n",
       "    </tr>\n",
       "    <tr>\n",
       "      <th>KNN</th>\n",
       "      <td>29.666715</td>\n",
       "      <td>30.142289</td>\n",
       "      <td>59.443801</td>\n",
       "    </tr>\n",
       "  </tbody>\n",
       "</table>\n",
       "</div>"
      ],
      "text/plain": [
       "               Precision (%)  Recall/Sensitivity (%)  Accuracy (%)\n",
       "Decision Tree      29.199833               29.158040     56.025492\n",
       "KNN                29.666715               30.142289     59.443801"
      ]
     },
     "execution_count": 32,
     "metadata": {},
     "output_type": "execute_result"
    }
   ],
   "source": [
    "# Precision, Recall and Accuracy given the predictive models initially obtained\n",
    "data = [\n",
    "        [precision_score(Y_test,decision_tree_predicted,average='macro')*100,\n",
    "         recall_score(Y_test,decision_tree_predicted,average='macro')*100,\n",
    "         accuracy_score(Y_test,decision_tree_predicted)*100],\n",
    "        \n",
    "        [precision_score(Y_test,knn_preds_test,average='macro')*100,\n",
    "         recall_score(Y_test,knn_preds_test,average='macro')*100,\n",
    "         accuracy_score(Y_test,knn_preds_test)*100]\n",
    "       ]\n",
    "\n",
    "Evaluation_df = pd.DataFrame(data,\n",
    "                             columns=['Precision (%)',\n",
    "                                      'Recall/Sensitivity (%)',\n",
    "                                      'Accuracy (%)'],\n",
    "                             index=['Decision Tree', 'KNN'])\n",
    "Evaluation_df"
   ]
  },
  {
   "cell_type": "markdown",
   "id": "6cd5ce56",
   "metadata": {},
   "source": [
    "### <center>Performance</center><p><center>(Using K-Fold Cross Validation)</center>"
   ]
  },
  {
   "cell_type": "code",
   "execution_count": 33,
   "id": "05455efd",
   "metadata": {
    "code_folding": [],
    "scrolled": false
   },
   "outputs": [
    {
     "name": "stdout",
     "output_type": "stream",
     "text": [
      "-> Decision Tree Accuracy Avg: 53.673 (Std: 5.662)\n",
      "\n"
     ]
    },
    {
     "data": {
      "image/png": "[encoded data removed]",
      "text/plain": [
       "<Figure size 640x480 with 1 Axes>"
      ]
     },
     "metadata": {},
     "output_type": "display_data"
    }
   ],
   "source": [
    "# DT Average Score/Accuracy (Cross Validation With Kfold)\n",
    "DT_K_Fold_CV_Scores = Plot_Model_K_Fold_Cross_Validation(\"Decision Tree\",decision_tree,X,Y,\"skyblue\")"
   ]
  },
  {
   "cell_type": "code",
   "execution_count": 34,
   "id": "5e1aab90",
   "metadata": {
    "code_folding": [],
    "scrolled": false
   },
   "outputs": [
    {
     "name": "stdout",
     "output_type": "stream",
     "text": [
      "-> KNN Accuracy Avg: 58.086 (Std: 8.770)\n",
      "\n"
     ]
    },
    {
     "data": {
      "image/png": "[encoded data removed]",
      "text/plain": [
       "<Figure size 640x480 with 1 Axes>"
      ]
     },
     "metadata": {},
     "output_type": "display_data"
    }
   ],
   "source": [
    "# KNN Average Score/Accuracy (Cross Validation With Kfold)\n",
    "KNN_K_Fold_CV_Scores = Plot_Model_K_Fold_Cross_Validation(\"KNN\",knn,X,Y,\"skyblue\")"
   ]
  },
  {
   "cell_type": "code",
   "execution_count": 35,
   "id": "54c4d0df",
   "metadata": {},
   "outputs": [
    {
     "data": {
      "image/png": "[encoded data removed]",
      "text/plain": [
       "<Figure size 640x480 with 1 Axes>"
      ]
     },
     "metadata": {},
     "output_type": "display_data"
    }
   ],
   "source": [
    "# Simple BoxPlot with both algorithm's accuracies (calculated above)\n",
    "X_labels = ['Decision Tree', 'KNN']\n",
    "Y_label = 'Accuracy (%)'\n",
    "fig = plt.figure()\n",
    "fig.suptitle('Algorithm Comparison')\n",
    "ax = fig.add_subplot(111)\n",
    "plt.boxplot([DT_K_Fold_CV_Scores, KNN_K_Fold_CV_Scores])\n",
    "ax.set_xticklabels(X_labels)\n",
    "plt.ylabel(Y_label)\n",
    "plt.show()"
   ]
  },
  {
   "cell_type": "markdown",
   "id": "0856b1f9",
   "metadata": {},
   "source": [
    "# <center>Parameter Tunning (Grid Search)</center>"
   ]
  },
  {
   "cell_type": "markdown",
   "id": "2909f7b2",
   "metadata": {},
   "source": [
    "## <center>Decision Tree Classifier</center>"
   ]
  },
  {
   "cell_type": "code",
   "execution_count": 36,
   "id": "21dd2c0d",
   "metadata": {
    "code_folding": [],
    "scrolled": false
   },
   "outputs": [
    {
     "name": "stdout",
     "output_type": "stream",
     "text": [
      "Best Score (%):\n",
      "  -> 56.5257\n",
      "Best Parameters:\n",
      "  -> criterion = entropy\n",
      "  -> max_depth = 2\n",
      "  -> max_features = 3\n",
      "  -> splitter = random\n"
     ]
    }
   ],
   "source": [
    "# Finding the Best Possible Configuration for the DT_Classifier \n",
    "decision_tree = Find_Best_DT_Classifier(X,Y)\n",
    "Save_Tree_Diagram(\"Best_DT_Classifier\", decision_tree)"
   ]
  },
  {
   "cell_type": "markdown",
   "id": "260eeaf2",
   "metadata": {},
   "source": [
    "### - Decision Tree Diagram"
   ]
  },
  {
   "cell_type": "markdown",
   "id": "d105905d",
   "metadata": {},
   "source": [
    "<center><img src=\"Images/Best_Decision_Tree_Model.png\" width=\"2000\" title=\"Decision Tree\"></center>"
   ]
  },
  {
   "cell_type": "markdown",
   "id": "10c5de17",
   "metadata": {},
   "source": [
    "## <center>KNN Classifier</center>"
   ]
  },
  {
   "cell_type": "code",
   "execution_count": 37,
   "id": "440e15d5",
   "metadata": {
    "code_folding": []
   },
   "outputs": [
    {
     "name": "stdout",
     "output_type": "stream",
     "text": [
      "Best Score (%):\n",
      "  -> 24.4225\n",
      "Best Parameters:\n",
      "  -> leaf_size = 40\n",
      "  -> metric = chebyshev\n",
      "  -> n_neighbors = 1\n",
      "  -> p = 1\n",
      "  -> weights = uniform\n"
     ]
    }
   ],
   "source": [
    "# Finding the Best Possible Configuration for the KNN_Classifier \n",
    "knn = Find_Best_KNN_Classifier(X,Y,num_neighbors=3)"
   ]
  }
 ],
 "metadata": {
  "kernelspec": {
   "display_name": "Python 3 (ipykernel)",
   "language": "python",
   "name": "python3"
  },
  "language_info": {
   "codemirror_mode": {
    "name": "ipython",
    "version": 3
   },
   "file_extension": ".py",
   "mimetype": "text/x-python",
   "name": "python",
   "nbconvert_exporter": "python",
   "pygments_lexer": "ipython3",
   "version": "3.9.13"
  }
 },
 "nbformat": 4,
 "nbformat_minor": 5
}
