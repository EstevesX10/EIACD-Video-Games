{
 "cells": [
  {
   "cell_type": "code",
   "execution_count": 1,
   "id": "2350f238",
   "metadata": {},
   "outputs": [],
   "source": [
    "import numpy as np\n",
    "import pandas as pd\n",
    "import matplotlib.pyplot as plt\n",
    "import seaborn as sns\n",
    "import statistics\n",
    "\n",
    "from sklearn.model_selection import (train_test_split,\n",
    "                                     StratifiedKFold,\n",
    "                                     KFold,\n",
    "                                     cross_val_score,\n",
    "                                     GridSearchCV)\n",
    "\n",
    "from sklearn.tree import DecisionTreeClassifier\n",
    "import sklearn.tree as tree\n",
    "from sklearn.neighbors import KNeighborsClassifier\n",
    "\n",
    "from sklearn.metrics import (confusion_matrix,\n",
    "                            ConfusionMatrixDisplay,\n",
    "                            precision_score,\n",
    "                            recall_score,\n",
    "                            accuracy_score)"
   ]
  },
  {
   "cell_type": "code",
   "execution_count": 2,
   "id": "372b4b73",
   "metadata": {
    "code_folding": [
     0
    ]
   },
   "outputs": [
    {
     "data": {
      "text/html": [
       "\n",
       "<style>\n",
       ".output_png {\n",
       "    display: table-cell;\n",
       "    text-align: center;\n",
       "    vertical-align: middle;\n",
       "}\n",
       "</style>\n"
      ],
      "text/plain": [
       "<IPython.core.display.HTML object>"
      ]
     },
     "execution_count": 2,
     "metadata": {},
     "output_type": "execute_result"
    }
   ],
   "source": [
    "# IN ORDER TO CENTER ALL GRAPHS \n",
    "from IPython.core.display import HTML\n",
    "HTML(\"\"\"\n",
    "<style>\n",
    ".output_png {\n",
    "    display: table-cell;\n",
    "    text-align: center;\n",
    "    vertical-align: middle;\n",
    "}\n",
    "</style>\n",
    "\"\"\")"
   ]
  },
  {
   "cell_type": "code",
   "execution_count": 3,
   "id": "f0a64e71",
   "metadata": {
    "code_folding": [
     0
    ]
   },
   "outputs": [],
   "source": [
    "# IN ORDER TO SUPRESS SOME WARNING WHILE USING KNN \n",
    "from warnings import simplefilter\n",
    "simplefilter(action='ignore', category=FutureWarning)"
   ]
  },
  {
   "cell_type": "markdown",
   "id": "299f4857",
   "metadata": {},
   "source": [
    "# <center>Tasks</center>"
   ]
  },
  {
   "cell_type": "markdown",
   "id": "e46bdd67",
   "metadata": {
    "code_folding": []
   },
   "source": [
    "<center><img src=\"Images/Assignment_2_Tasks.png\" width=\"600\" title=\"Tasks\"></center>"
   ]
  },
  {
   "cell_type": "markdown",
   "id": "cc0f59b9",
   "metadata": {},
   "source": [
    "# <center>Tratamento de Dados</center>"
   ]
  },
  {
   "cell_type": "code",
   "execution_count": 4,
   "id": "6d3e1c71",
   "metadata": {},
   "outputs": [
    {
     "data": {
      "text/plain": [
       "(5824, 15)"
      ]
     },
     "execution_count": 4,
     "metadata": {},
     "output_type": "execute_result"
    }
   ],
   "source": [
    "df = pd.read_csv('video_games.csv')\n",
    "df.shape\n",
    "# Dimensões do DataFrame criado"
   ]
  },
  {
   "cell_type": "code",
   "execution_count": 5,
   "id": "8f937286",
   "metadata": {
    "code_folding": [],
    "scrolled": true
   },
   "outputs": [
    {
     "data": {
      "text/html": [
       "<div>\n",
       "<style scoped>\n",
       "    .dataframe tbody tr th:only-of-type {\n",
       "        vertical-align: middle;\n",
       "    }\n",
       "\n",
       "    .dataframe tbody tr th {\n",
       "        vertical-align: top;\n",
       "    }\n",
       "\n",
       "    .dataframe thead th {\n",
       "        text-align: right;\n",
       "    }\n",
       "</style>\n",
       "<table border=\"1\" class=\"dataframe\">\n",
       "  <thead>\n",
       "    <tr style=\"text-align: right;\">\n",
       "      <th></th>\n",
       "      <th>id</th>\n",
       "      <th>name</th>\n",
       "      <th>category</th>\n",
       "      <th>n_dlcs</th>\n",
       "      <th>n_expansions</th>\n",
       "      <th>year</th>\n",
       "      <th>follows</th>\n",
       "      <th>in_franchise</th>\n",
       "      <th>genres</th>\n",
       "      <th>companies</th>\n",
       "      <th>platforms</th>\n",
       "      <th>user_score</th>\n",
       "      <th>user_rating</th>\n",
       "      <th>n_user_reviews</th>\n",
       "      <th>summary</th>\n",
       "    </tr>\n",
       "  </thead>\n",
       "  <tbody>\n",
       "    <tr>\n",
       "      <th>0</th>\n",
       "      <td>1020</td>\n",
       "      <td>Grand Theft Auto V</td>\n",
       "      <td>main_game</td>\n",
       "      <td>0</td>\n",
       "      <td>0</td>\n",
       "      <td>2013</td>\n",
       "      <td>1766</td>\n",
       "      <td>True</td>\n",
       "      <td>Shooter, Adventure</td>\n",
       "      <td>Rockstar North, Rockstar Games, Take-Two Inter...</td>\n",
       "      <td>PC (Microsoft Windows), PlayStation 3, Xbox 36...</td>\n",
       "      <td>90.202388</td>\n",
       "      <td>great</td>\n",
       "      <td>3369</td>\n",
       "      <td>Grand Theft Auto V is a vast open world game s...</td>\n",
       "    </tr>\n",
       "    <tr>\n",
       "      <th>1</th>\n",
       "      <td>1942</td>\n",
       "      <td>The Witcher 3: Wild Hunt</td>\n",
       "      <td>main_game</td>\n",
       "      <td>4</td>\n",
       "      <td>2</td>\n",
       "      <td>2015</td>\n",
       "      <td>1516</td>\n",
       "      <td>True</td>\n",
       "      <td>Role-playing (RPG), Adventure</td>\n",
       "      <td>WB Games, Bandai Namco Entertainment, cdp.pl, ...</td>\n",
       "      <td>PC (Microsoft Windows), PlayStation 4, Xbox On...</td>\n",
       "      <td>95.169577</td>\n",
       "      <td>great</td>\n",
       "      <td>2997</td>\n",
       "      <td>RPG and sequel to The Witcher 2 (2011), The Wi...</td>\n",
       "    </tr>\n",
       "    <tr>\n",
       "      <th>2</th>\n",
       "      <td>472</td>\n",
       "      <td>The Elder Scrolls V: Skyrim</td>\n",
       "      <td>main_game</td>\n",
       "      <td>3</td>\n",
       "      <td>0</td>\n",
       "      <td>2011</td>\n",
       "      <td>1046</td>\n",
       "      <td>False</td>\n",
       "      <td>Role-playing (RPG), Adventure</td>\n",
       "      <td>Bethesda Game Studios, Bethesda Softworks</td>\n",
       "      <td>PC (Microsoft Windows), PlayStation 3, Xbox 360</td>\n",
       "      <td>87.508504</td>\n",
       "      <td>great</td>\n",
       "      <td>2567</td>\n",
       "      <td>Skyrim reimagines and revolutionizes the open-...</td>\n",
       "    </tr>\n",
       "  </tbody>\n",
       "</table>\n",
       "</div>"
      ],
      "text/plain": [
       "     id                         name   category  n_dlcs  n_expansions  year  \\\n",
       "0  1020           Grand Theft Auto V  main_game       0             0  2013   \n",
       "1  1942     The Witcher 3: Wild Hunt  main_game       4             2  2015   \n",
       "2   472  The Elder Scrolls V: Skyrim  main_game       3             0  2011   \n",
       "\n",
       "   follows  in_franchise                         genres  \\\n",
       "0     1766          True             Shooter, Adventure   \n",
       "1     1516          True  Role-playing (RPG), Adventure   \n",
       "2     1046         False  Role-playing (RPG), Adventure   \n",
       "\n",
       "                                           companies  \\\n",
       "0  Rockstar North, Rockstar Games, Take-Two Inter...   \n",
       "1  WB Games, Bandai Namco Entertainment, cdp.pl, ...   \n",
       "2          Bethesda Game Studios, Bethesda Softworks   \n",
       "\n",
       "                                           platforms  user_score user_rating  \\\n",
       "0  PC (Microsoft Windows), PlayStation 3, Xbox 36...   90.202388       great   \n",
       "1  PC (Microsoft Windows), PlayStation 4, Xbox On...   95.169577       great   \n",
       "2    PC (Microsoft Windows), PlayStation 3, Xbox 360   87.508504       great   \n",
       "\n",
       "   n_user_reviews                                            summary  \n",
       "0            3369  Grand Theft Auto V is a vast open world game s...  \n",
       "1            2997  RPG and sequel to The Witcher 2 (2011), The Wi...  \n",
       "2            2567  Skyrim reimagines and revolutionizes the open-...  "
      ]
     },
     "execution_count": 5,
     "metadata": {},
     "output_type": "execute_result"
    }
   ],
   "source": [
    "# DataFrame \n",
    "df.head(3)"
   ]
  },
  {
   "cell_type": "code",
   "execution_count": 6,
   "id": "9317eff6",
   "metadata": {
    "code_folding": [
     0
    ],
    "scrolled": true
   },
   "outputs": [
    {
     "name": "stdout",
     "output_type": "stream",
     "text": [
      "<class 'pandas.core.frame.DataFrame'>\n",
      "RangeIndex: 5824 entries, 0 to 5823\n",
      "Data columns (total 15 columns):\n",
      " #   Column          Non-Null Count  Dtype  \n",
      "---  ------          --------------  -----  \n",
      " 0   id              5824 non-null   int64  \n",
      " 1   name            5824 non-null   object \n",
      " 2   category        5824 non-null   object \n",
      " 3   n_dlcs          5824 non-null   int64  \n",
      " 4   n_expansions    5824 non-null   int64  \n",
      " 5   year            5824 non-null   int64  \n",
      " 6   follows         5824 non-null   int64  \n",
      " 7   in_franchise    5824 non-null   bool   \n",
      " 8   genres          5803 non-null   object \n",
      " 9   companies       5781 non-null   object \n",
      " 10  platforms       5824 non-null   object \n",
      " 11  user_score      5824 non-null   float64\n",
      " 12  user_rating     5824 non-null   object \n",
      " 13  n_user_reviews  5824 non-null   int64  \n",
      " 14  summary         5816 non-null   object \n",
      "dtypes: bool(1), float64(1), int64(6), object(7)\n",
      "memory usage: 642.8+ KB\n"
     ]
    }
   ],
   "source": [
    "# Info do DataFrame \n",
    "df.info()"
   ]
  },
  {
   "cell_type": "code",
   "execution_count": 7,
   "id": "0e8b26e7",
   "metadata": {
    "code_folding": [],
    "scrolled": true
   },
   "outputs": [
    {
     "name": "stdout",
     "output_type": "stream",
     "text": [
      "Atributo\t  Contem NaN?\n",
      "\n",
      "id                False\n",
      "name              False\n",
      "category          False\n",
      "n_dlcs            False\n",
      "n_expansions      False\n",
      "year              False\n",
      "follows           False\n",
      "in_franchise      False\n",
      "genres             True\n",
      "companies          True\n",
      "platforms         False\n",
      "user_score        False\n",
      "user_rating       False\n",
      "n_user_reviews    False\n",
      "summary            True\n",
      "dtype: bool\n",
      "\n",
      "Nº de NaN Values: 72\n",
      "Nº de Null Values: 72\n"
     ]
    }
   ],
   "source": [
    "# Atributos que apresentam NaN values \n",
    "print(f\"Atributo\\t  Contem NaN?\\n\")\n",
    "print(df.isna().any())\n",
    "print(f\"\\nNº de NaN Values: {(df.isna().sum()).sum()}\")\n",
    "print(f\"Nº de Null Values: {(df.isnull().sum()).sum()}\")"
   ]
  },
  {
   "cell_type": "code",
   "execution_count": 8,
   "id": "2a8ee2ca",
   "metadata": {
    "scrolled": true
   },
   "outputs": [
    {
     "data": {
      "text/html": [
       "<div>\n",
       "<style scoped>\n",
       "    .dataframe tbody tr th:only-of-type {\n",
       "        vertical-align: middle;\n",
       "    }\n",
       "\n",
       "    .dataframe tbody tr th {\n",
       "        vertical-align: top;\n",
       "    }\n",
       "\n",
       "    .dataframe thead th {\n",
       "        text-align: right;\n",
       "    }\n",
       "</style>\n",
       "<table border=\"1\" class=\"dataframe\">\n",
       "  <thead>\n",
       "    <tr style=\"text-align: right;\">\n",
       "      <th></th>\n",
       "      <th>id</th>\n",
       "      <th>name</th>\n",
       "      <th>category</th>\n",
       "      <th>n_dlcs</th>\n",
       "      <th>n_expansions</th>\n",
       "      <th>year</th>\n",
       "      <th>follows</th>\n",
       "      <th>in_franchise</th>\n",
       "      <th>genres</th>\n",
       "      <th>companies</th>\n",
       "      <th>platforms</th>\n",
       "      <th>user_score</th>\n",
       "      <th>user_rating</th>\n",
       "      <th>n_user_reviews</th>\n",
       "      <th>summary</th>\n",
       "    </tr>\n",
       "  </thead>\n",
       "  <tbody>\n",
       "    <tr>\n",
       "      <th>1542</th>\n",
       "      <td>45181</td>\n",
       "      <td>Mass Effect Trilogy</td>\n",
       "      <td>bundle</td>\n",
       "      <td>0</td>\n",
       "      <td>0</td>\n",
       "      <td>2012</td>\n",
       "      <td>19</td>\n",
       "      <td>False</td>\n",
       "      <td>Shooter, Role-playing (RPG)</td>\n",
       "      <td>NaN</td>\n",
       "      <td>PlayStation 3, Xbox 360</td>\n",
       "      <td>98.110789</td>\n",
       "      <td>great</td>\n",
       "      <td>63</td>\n",
       "      <td>Experience all three award winning Mass Effect...</td>\n",
       "    </tr>\n",
       "    <tr>\n",
       "      <th>1607</th>\n",
       "      <td>2940</td>\n",
       "      <td>Killer Is Dead</td>\n",
       "      <td>main_game</td>\n",
       "      <td>0</td>\n",
       "      <td>0</td>\n",
       "      <td>2013</td>\n",
       "      <td>24</td>\n",
       "      <td>False</td>\n",
       "      <td>NaN</td>\n",
       "      <td>Grasshopper Manufacture, XSEED Games</td>\n",
       "      <td>PC (Microsoft Windows), PlayStation 3, Xbox 36...</td>\n",
       "      <td>56.868247</td>\n",
       "      <td>good</td>\n",
       "      <td>61</td>\n",
       "      <td>Get ready for some seriously stylish action fr...</td>\n",
       "    </tr>\n",
       "    <tr>\n",
       "      <th>1992</th>\n",
       "      <td>14389</td>\n",
       "      <td>Friday the 13th: The Game</td>\n",
       "      <td>main_game</td>\n",
       "      <td>0</td>\n",
       "      <td>0</td>\n",
       "      <td>2017</td>\n",
       "      <td>49</td>\n",
       "      <td>True</td>\n",
       "      <td>NaN</td>\n",
       "      <td>Illfonic, Gun Media, Black Tower Studios, Blac...</td>\n",
       "      <td>PC (Microsoft Windows), PlayStation 4, Xbox On...</td>\n",
       "      <td>68.514517</td>\n",
       "      <td>good</td>\n",
       "      <td>46</td>\n",
       "      <td>Friday the 13th: The Game is a third-person ho...</td>\n",
       "    </tr>\n",
       "  </tbody>\n",
       "</table>\n",
       "</div>"
      ],
      "text/plain": [
       "         id                       name   category  n_dlcs  n_expansions  year  \\\n",
       "1542  45181        Mass Effect Trilogy     bundle       0             0  2012   \n",
       "1607   2940             Killer Is Dead  main_game       0             0  2013   \n",
       "1992  14389  Friday the 13th: The Game  main_game       0             0  2017   \n",
       "\n",
       "      follows  in_franchise                       genres  \\\n",
       "1542       19         False  Shooter, Role-playing (RPG)   \n",
       "1607       24         False                          NaN   \n",
       "1992       49          True                          NaN   \n",
       "\n",
       "                                              companies  \\\n",
       "1542                                                NaN   \n",
       "1607               Grasshopper Manufacture, XSEED Games   \n",
       "1992  Illfonic, Gun Media, Black Tower Studios, Blac...   \n",
       "\n",
       "                                              platforms  user_score  \\\n",
       "1542                            PlayStation 3, Xbox 360   98.110789   \n",
       "1607  PC (Microsoft Windows), PlayStation 3, Xbox 36...   56.868247   \n",
       "1992  PC (Microsoft Windows), PlayStation 4, Xbox On...   68.514517   \n",
       "\n",
       "     user_rating  n_user_reviews  \\\n",
       "1542       great              63   \n",
       "1607        good              61   \n",
       "1992        good              46   \n",
       "\n",
       "                                                summary  \n",
       "1542  Experience all three award winning Mass Effect...  \n",
       "1607  Get ready for some seriously stylish action fr...  \n",
       "1992  Friday the 13th: The Game is a third-person ho...  "
      ]
     },
     "execution_count": 8,
     "metadata": {},
     "output_type": "execute_result"
    }
   ],
   "source": [
    "# Criou-se um DataFrame auxiliar de forma a visualizar os dados \n",
    "# cujas entradas são NaN\n",
    "df_NaN = df.loc[df.isna().values == True]\n",
    "df_NaN.head(3)"
   ]
  },
  {
   "cell_type": "code",
   "execution_count": 9,
   "id": "69b3cf38",
   "metadata": {},
   "outputs": [
    {
     "data": {
      "text/html": [
       "<div>\n",
       "<style scoped>\n",
       "    .dataframe tbody tr th:only-of-type {\n",
       "        vertical-align: middle;\n",
       "    }\n",
       "\n",
       "    .dataframe tbody tr th {\n",
       "        vertical-align: top;\n",
       "    }\n",
       "\n",
       "    .dataframe thead th {\n",
       "        text-align: right;\n",
       "    }\n",
       "</style>\n",
       "<table border=\"1\" class=\"dataframe\">\n",
       "  <thead>\n",
       "    <tr style=\"text-align: right;\">\n",
       "      <th></th>\n",
       "      <th>id</th>\n",
       "      <th>name</th>\n",
       "      <th>category</th>\n",
       "      <th>n_dlcs</th>\n",
       "      <th>n_expansions</th>\n",
       "      <th>year</th>\n",
       "      <th>follows</th>\n",
       "      <th>in_franchise</th>\n",
       "      <th>genres</th>\n",
       "      <th>companies</th>\n",
       "      <th>platforms</th>\n",
       "      <th>user_score</th>\n",
       "      <th>user_rating</th>\n",
       "      <th>n_user_reviews</th>\n",
       "      <th>summary</th>\n",
       "    </tr>\n",
       "  </thead>\n",
       "  <tbody>\n",
       "  </tbody>\n",
       "</table>\n",
       "</div>"
      ],
      "text/plain": [
       "Empty DataFrame\n",
       "Columns: [id, name, category, n_dlcs, n_expansions, year, follows, in_franchise, genres, companies, platforms, user_score, user_rating, n_user_reviews, summary]\n",
       "Index: []"
      ]
     },
     "execution_count": 9,
     "metadata": {},
     "output_type": "execute_result"
    }
   ],
   "source": [
    "df.loc[df.duplicated() == True]\n",
    "# Como foi obtido num DataFrame sem quaisquer entradas,\n",
    "# podemos concluir que não existem dados repetidos\n",
    "# no DataSet"
   ]
  },
  {
   "cell_type": "code",
   "execution_count": 10,
   "id": "f3e6e2bd",
   "metadata": {
    "code_folding": []
   },
   "outputs": [],
   "source": [
    "# Remoção de Valores Repetidos ou NaN \n",
    "\n",
    "# Dado a quantidade reduzida de valores NaN e Null\n",
    "# (face às ~6000 entradas do dataset),\n",
    "# podemos remover as entradas correspondentes,\n",
    "# visto não ir afetar a performance dos modelos preditivos\n",
    "\n",
    "df.drop_duplicates(inplace=True)\n",
    "df.dropna(how='any', axis=0, inplace=True)"
   ]
  },
  {
   "cell_type": "code",
   "execution_count": 11,
   "id": "6c5cdee7",
   "metadata": {
    "code_folding": [],
    "scrolled": true
   },
   "outputs": [
    {
     "name": "stdout",
     "output_type": "stream",
     "text": [
      "\t\tAttribute: genres\n",
      "\n",
      "0               [Shooter, Adventure]\n",
      "1    [Role-playing (RPG), Adventure]\n",
      "2    [Role-playing (RPG), Adventure]\n",
      "Name: genres, dtype: object\n",
      "\n",
      "\t\tAttribute: companies\n",
      "\n",
      "0    [Rockstar North, Rockstar Games, Take-Two Inte...\n",
      "1    [WB Games, Bandai Namco Entertainment, cdp.pl,...\n",
      "2          [Bethesda Game Studios, Bethesda Softworks]\n",
      "Name: companies, dtype: object\n",
      "\n",
      "\t\tAttribute: platforms\n",
      "\n",
      "0    [PC (Microsoft Windows), PlayStation 3, Xbox 3...\n",
      "1    [PC (Microsoft Windows), PlayStation 4, Xbox O...\n",
      "2    [PC (Microsoft Windows), PlayStation 3, Xbox 360]\n",
      "Name: platforms, dtype: object\n",
      "\n"
     ]
    }
   ],
   "source": [
    "# Conversão de Str to List de Alguns Atributos \n",
    "\n",
    "Attributes_Str_To_List = ['genres', 'companies', 'platforms']\n",
    "for i in Attributes_Str_To_List:\n",
    "    df[i] = df[i].str.split(\", \")\n",
    "\n",
    "for k in Attributes_Str_To_List:\n",
    "    print(f\"\\t\\tAttribute: {k}\\n\")\n",
    "    print(df[k].head(3))\n",
    "    print()"
   ]
  },
  {
   "cell_type": "code",
   "execution_count": 12,
   "id": "1e4638a6",
   "metadata": {
    "code_folding": [],
    "scrolled": true
   },
   "outputs": [
    {
     "data": {
      "text/plain": [
       "0    1\n",
       "1    1\n",
       "2    0\n",
       "Name: in_franchise, dtype: int64"
      ]
     },
     "execution_count": 12,
     "metadata": {},
     "output_type": "execute_result"
    }
   ],
   "source": [
    "# Conversão do Atributo 'In_Franchise' para int \n",
    "# (True -> 1 || False -> 0)\n",
    "\n",
    "atr = \"in_franchise\"\n",
    "df[atr] = df[atr].apply(lambda x: x==True).astype('int64')\n",
    "df[atr].head(3)"
   ]
  },
  {
   "cell_type": "code",
   "execution_count": 13,
   "id": "e20faade",
   "metadata": {
    "code_folding": [],
    "scrolled": false
   },
   "outputs": [],
   "source": [
    "# NEW ATTRIBUTE -> AGE\n",
    "# Este atributo corresponde à diferença do ano de lançamento com o ano atual (2023)\n",
    "df.insert(2, 'age', 2023-df['year'])"
   ]
  },
  {
   "cell_type": "code",
   "execution_count": 14,
   "id": "4447e949",
   "metadata": {
    "code_folding": []
   },
   "outputs": [],
   "source": [
    "# NEW ATTRIBUTE -> N_GENRES\n",
    "# Este atributo corresponde ao comprimento da lista de géneros\n",
    "df.insert(3, 'n_genres', df['genres'].apply(lambda x: len(x)))"
   ]
  },
  {
   "cell_type": "code",
   "execution_count": 15,
   "id": "69720fbb",
   "metadata": {
    "code_folding": []
   },
   "outputs": [],
   "source": [
    "# NEW ATTRIBUTE -> N_COMPANIES\n",
    "# Este atributo corresponde ao comprimento da lista de empresas\n",
    "df.insert(4, 'n_companies', df['companies'].apply(lambda x: len(x)))"
   ]
  },
  {
   "cell_type": "code",
   "execution_count": 16,
   "id": "9d0aa42f",
   "metadata": {
    "code_folding": []
   },
   "outputs": [
    {
     "data": {
      "text/html": [
       "<div>\n",
       "<style scoped>\n",
       "    .dataframe tbody tr th:only-of-type {\n",
       "        vertical-align: middle;\n",
       "    }\n",
       "\n",
       "    .dataframe tbody tr th {\n",
       "        vertical-align: top;\n",
       "    }\n",
       "\n",
       "    .dataframe thead th {\n",
       "        text-align: right;\n",
       "    }\n",
       "</style>\n",
       "<table border=\"1\" class=\"dataframe\">\n",
       "  <thead>\n",
       "    <tr style=\"text-align: right;\">\n",
       "      <th></th>\n",
       "      <th>id</th>\n",
       "      <th>name</th>\n",
       "      <th>age</th>\n",
       "      <th>n_genres</th>\n",
       "      <th>n_companies</th>\n",
       "      <th>n_platforms</th>\n",
       "      <th>category</th>\n",
       "      <th>n_dlcs</th>\n",
       "      <th>n_expansions</th>\n",
       "      <th>year</th>\n",
       "      <th>follows</th>\n",
       "      <th>in_franchise</th>\n",
       "      <th>genres</th>\n",
       "      <th>companies</th>\n",
       "      <th>platforms</th>\n",
       "      <th>user_score</th>\n",
       "      <th>user_rating</th>\n",
       "      <th>n_user_reviews</th>\n",
       "      <th>summary</th>\n",
       "    </tr>\n",
       "  </thead>\n",
       "  <tbody>\n",
       "    <tr>\n",
       "      <th>0</th>\n",
       "      <td>1020</td>\n",
       "      <td>Grand Theft Auto V</td>\n",
       "      <td>10</td>\n",
       "      <td>2</td>\n",
       "      <td>3</td>\n",
       "      <td>7</td>\n",
       "      <td>main_game</td>\n",
       "      <td>0</td>\n",
       "      <td>0</td>\n",
       "      <td>2013</td>\n",
       "      <td>1766</td>\n",
       "      <td>1</td>\n",
       "      <td>[Shooter, Adventure]</td>\n",
       "      <td>[Rockstar North, Rockstar Games, Take-Two Inte...</td>\n",
       "      <td>[PC (Microsoft Windows), PlayStation 3, Xbox 3...</td>\n",
       "      <td>90.202388</td>\n",
       "      <td>great</td>\n",
       "      <td>3369</td>\n",
       "      <td>Grand Theft Auto V is a vast open world game s...</td>\n",
       "    </tr>\n",
       "    <tr>\n",
       "      <th>1</th>\n",
       "      <td>1942</td>\n",
       "      <td>The Witcher 3: Wild Hunt</td>\n",
       "      <td>8</td>\n",
       "      <td>2</td>\n",
       "      <td>6</td>\n",
       "      <td>4</td>\n",
       "      <td>main_game</td>\n",
       "      <td>4</td>\n",
       "      <td>2</td>\n",
       "      <td>2015</td>\n",
       "      <td>1516</td>\n",
       "      <td>1</td>\n",
       "      <td>[Role-playing (RPG), Adventure]</td>\n",
       "      <td>[WB Games, Bandai Namco Entertainment, cdp.pl,...</td>\n",
       "      <td>[PC (Microsoft Windows), PlayStation 4, Xbox O...</td>\n",
       "      <td>95.169577</td>\n",
       "      <td>great</td>\n",
       "      <td>2997</td>\n",
       "      <td>RPG and sequel to The Witcher 2 (2011), The Wi...</td>\n",
       "    </tr>\n",
       "    <tr>\n",
       "      <th>2</th>\n",
       "      <td>472</td>\n",
       "      <td>The Elder Scrolls V: Skyrim</td>\n",
       "      <td>12</td>\n",
       "      <td>2</td>\n",
       "      <td>2</td>\n",
       "      <td>3</td>\n",
       "      <td>main_game</td>\n",
       "      <td>3</td>\n",
       "      <td>0</td>\n",
       "      <td>2011</td>\n",
       "      <td>1046</td>\n",
       "      <td>0</td>\n",
       "      <td>[Role-playing (RPG), Adventure]</td>\n",
       "      <td>[Bethesda Game Studios, Bethesda Softworks]</td>\n",
       "      <td>[PC (Microsoft Windows), PlayStation 3, Xbox 360]</td>\n",
       "      <td>87.508504</td>\n",
       "      <td>great</td>\n",
       "      <td>2567</td>\n",
       "      <td>Skyrim reimagines and revolutionizes the open-...</td>\n",
       "    </tr>\n",
       "  </tbody>\n",
       "</table>\n",
       "</div>"
      ],
      "text/plain": [
       "     id                         name  age  n_genres  n_companies  n_platforms  \\\n",
       "0  1020           Grand Theft Auto V   10         2            3            7   \n",
       "1  1942     The Witcher 3: Wild Hunt    8         2            6            4   \n",
       "2   472  The Elder Scrolls V: Skyrim   12         2            2            3   \n",
       "\n",
       "    category  n_dlcs  n_expansions  year  follows  in_franchise  \\\n",
       "0  main_game       0             0  2013     1766             1   \n",
       "1  main_game       4             2  2015     1516             1   \n",
       "2  main_game       3             0  2011     1046             0   \n",
       "\n",
       "                            genres  \\\n",
       "0             [Shooter, Adventure]   \n",
       "1  [Role-playing (RPG), Adventure]   \n",
       "2  [Role-playing (RPG), Adventure]   \n",
       "\n",
       "                                           companies  \\\n",
       "0  [Rockstar North, Rockstar Games, Take-Two Inte...   \n",
       "1  [WB Games, Bandai Namco Entertainment, cdp.pl,...   \n",
       "2        [Bethesda Game Studios, Bethesda Softworks]   \n",
       "\n",
       "                                           platforms  user_score user_rating  \\\n",
       "0  [PC (Microsoft Windows), PlayStation 3, Xbox 3...   90.202388       great   \n",
       "1  [PC (Microsoft Windows), PlayStation 4, Xbox O...   95.169577       great   \n",
       "2  [PC (Microsoft Windows), PlayStation 3, Xbox 360]   87.508504       great   \n",
       "\n",
       "   n_user_reviews                                            summary  \n",
       "0            3369  Grand Theft Auto V is a vast open world game s...  \n",
       "1            2997  RPG and sequel to The Witcher 2 (2011), The Wi...  \n",
       "2            2567  Skyrim reimagines and revolutionizes the open-...  "
      ]
     },
     "execution_count": 16,
     "metadata": {},
     "output_type": "execute_result"
    }
   ],
   "source": [
    "# NEW ATTRIBUTE -> N_PLATFORMS\n",
    "# Este atributo corresponde ao comprimento da lista de plataformas\n",
    "df.insert(5, 'n_platforms', df['platforms'].apply(lambda x: len(x)))\n",
    "df.head(3)"
   ]
  },
  {
   "cell_type": "code",
   "execution_count": 17,
   "id": "ed016bc9",
   "metadata": {
    "scrolled": false
   },
   "outputs": [
    {
     "data": {
      "text/html": [
       "<div>\n",
       "<style scoped>\n",
       "    .dataframe tbody tr th:only-of-type {\n",
       "        vertical-align: middle;\n",
       "    }\n",
       "\n",
       "    .dataframe tbody tr th {\n",
       "        vertical-align: top;\n",
       "    }\n",
       "\n",
       "    .dataframe thead th {\n",
       "        text-align: right;\n",
       "    }\n",
       "</style>\n",
       "<table border=\"1\" class=\"dataframe\">\n",
       "  <thead>\n",
       "    <tr style=\"text-align: right;\">\n",
       "      <th></th>\n",
       "      <th>id</th>\n",
       "      <th>age</th>\n",
       "      <th>n_genres</th>\n",
       "      <th>n_companies</th>\n",
       "      <th>n_platforms</th>\n",
       "      <th>n_dlcs</th>\n",
       "      <th>n_expansions</th>\n",
       "      <th>year</th>\n",
       "      <th>follows</th>\n",
       "      <th>in_franchise</th>\n",
       "      <th>user_score</th>\n",
       "      <th>n_user_reviews</th>\n",
       "    </tr>\n",
       "  </thead>\n",
       "  <tbody>\n",
       "    <tr>\n",
       "      <th>age</th>\n",
       "      <td>-0.428662</td>\n",
       "      <td>1.0</td>\n",
       "      <td>-0.255507</td>\n",
       "      <td>0.269817</td>\n",
       "      <td>0.145652</td>\n",
       "      <td>-0.15927</td>\n",
       "      <td>-0.028846</td>\n",
       "      <td>-1.0</td>\n",
       "      <td>-0.096327</td>\n",
       "      <td>0.157911</td>\n",
       "      <td>-0.006355</td>\n",
       "      <td>-0.039347</td>\n",
       "    </tr>\n",
       "    <tr>\n",
       "      <th>year</th>\n",
       "      <td>0.428662</td>\n",
       "      <td>-1.0</td>\n",
       "      <td>0.255507</td>\n",
       "      <td>-0.269817</td>\n",
       "      <td>-0.145652</td>\n",
       "      <td>0.15927</td>\n",
       "      <td>0.028846</td>\n",
       "      <td>1.0</td>\n",
       "      <td>0.096327</td>\n",
       "      <td>-0.157911</td>\n",
       "      <td>0.006355</td>\n",
       "      <td>0.039347</td>\n",
       "    </tr>\n",
       "  </tbody>\n",
       "</table>\n",
       "</div>"
      ],
      "text/plain": [
       "            id  age  n_genres  n_companies  n_platforms   n_dlcs  \\\n",
       "age  -0.428662  1.0 -0.255507     0.269817     0.145652 -0.15927   \n",
       "year  0.428662 -1.0  0.255507    -0.269817    -0.145652  0.15927   \n",
       "\n",
       "      n_expansions  year   follows  in_franchise  user_score  n_user_reviews  \n",
       "age      -0.028846  -1.0 -0.096327      0.157911   -0.006355       -0.039347  \n",
       "year      0.028846   1.0  0.096327     -0.157911    0.006355        0.039347  "
      ]
     },
     "execution_count": 17,
     "metadata": {},
     "output_type": "execute_result"
    }
   ],
   "source": [
    "# De forma a avaliar a Avaliar\n",
    "# a necessidade dos atributos para os modelos preditivos,\n",
    "# recorreu-se a uma matriz de correlação\n",
    "\n",
    "corr_df = df.corr()\n",
    "corr_df.loc[((corr_df.values < -0.95) & (corr_df.values > -1.0)) |\n",
    "           ((corr_df.values > 0.95) & (corr_df.values < 1.0))]\n",
    "\n",
    "# Os atributos 'age' e 'year' apresentam uma correlação de -1.0, pelo\n",
    "# que apresentam uma correlação negativa perfeita\n",
    "# Assim, estes atributos acabam por ser inversamente proporcionais, \n",
    "# pelo que não acrescentam informação nova aod DataFrame. Consequentemente,\n",
    "# é fulcral remover apenas um destes"
   ]
  },
  {
   "cell_type": "code",
   "execution_count": 18,
   "id": "63c7f21c",
   "metadata": {
    "code_folding": [],
    "scrolled": true
   },
   "outputs": [
    {
     "data": {
      "text/html": [
       "<div>\n",
       "<style scoped>\n",
       "    .dataframe tbody tr th:only-of-type {\n",
       "        vertical-align: middle;\n",
       "    }\n",
       "\n",
       "    .dataframe tbody tr th {\n",
       "        vertical-align: top;\n",
       "    }\n",
       "\n",
       "    .dataframe thead th {\n",
       "        text-align: right;\n",
       "    }\n",
       "</style>\n",
       "<table border=\"1\" class=\"dataframe\">\n",
       "  <thead>\n",
       "    <tr style=\"text-align: right;\">\n",
       "      <th></th>\n",
       "      <th>age</th>\n",
       "      <th>n_genres</th>\n",
       "      <th>n_companies</th>\n",
       "      <th>n_platforms</th>\n",
       "      <th>n_dlcs</th>\n",
       "      <th>n_expansions</th>\n",
       "      <th>follows</th>\n",
       "      <th>in_franchise</th>\n",
       "      <th>user_rating</th>\n",
       "      <th>n_user_reviews</th>\n",
       "    </tr>\n",
       "    <tr>\n",
       "      <th>name</th>\n",
       "      <th></th>\n",
       "      <th></th>\n",
       "      <th></th>\n",
       "      <th></th>\n",
       "      <th></th>\n",
       "      <th></th>\n",
       "      <th></th>\n",
       "      <th></th>\n",
       "      <th></th>\n",
       "      <th></th>\n",
       "    </tr>\n",
       "  </thead>\n",
       "  <tbody>\n",
       "    <tr>\n",
       "      <th>Grand Theft Auto V</th>\n",
       "      <td>10</td>\n",
       "      <td>2</td>\n",
       "      <td>3</td>\n",
       "      <td>7</td>\n",
       "      <td>0</td>\n",
       "      <td>0</td>\n",
       "      <td>1766</td>\n",
       "      <td>1</td>\n",
       "      <td>great</td>\n",
       "      <td>3369</td>\n",
       "    </tr>\n",
       "    <tr>\n",
       "      <th>The Witcher 3: Wild Hunt</th>\n",
       "      <td>8</td>\n",
       "      <td>2</td>\n",
       "      <td>6</td>\n",
       "      <td>4</td>\n",
       "      <td>4</td>\n",
       "      <td>2</td>\n",
       "      <td>1516</td>\n",
       "      <td>1</td>\n",
       "      <td>great</td>\n",
       "      <td>2997</td>\n",
       "    </tr>\n",
       "    <tr>\n",
       "      <th>The Elder Scrolls V: Skyrim</th>\n",
       "      <td>12</td>\n",
       "      <td>2</td>\n",
       "      <td>2</td>\n",
       "      <td>3</td>\n",
       "      <td>3</td>\n",
       "      <td>0</td>\n",
       "      <td>1046</td>\n",
       "      <td>0</td>\n",
       "      <td>great</td>\n",
       "      <td>2567</td>\n",
       "    </tr>\n",
       "  </tbody>\n",
       "</table>\n",
       "</div>"
      ],
      "text/plain": [
       "                             age  n_genres  n_companies  n_platforms  n_dlcs  \\\n",
       "name                                                                           \n",
       "Grand Theft Auto V            10         2            3            7       0   \n",
       "The Witcher 3: Wild Hunt       8         2            6            4       4   \n",
       "The Elder Scrolls V: Skyrim   12         2            2            3       3   \n",
       "\n",
       "                             n_expansions  follows  in_franchise user_rating  \\\n",
       "name                                                                           \n",
       "Grand Theft Auto V                      0     1766             1       great   \n",
       "The Witcher 3: Wild Hunt                2     1516             1       great   \n",
       "The Elder Scrolls V: Skyrim             0     1046             0       great   \n",
       "\n",
       "                             n_user_reviews  \n",
       "name                                         \n",
       "Grand Theft Auto V                     3369  \n",
       "The Witcher 3: Wild Hunt               2997  \n",
       "The Elder Scrolls V: Skyrim            2567  "
      ]
     },
     "execution_count": 18,
     "metadata": {},
     "output_type": "execute_result"
    }
   ],
   "source": [
    "# Remoção de Colunas Desnecessárias \n",
    "\n",
    "del df[\"summary\"]\n",
    "del df[\"id\"]\n",
    "del df[\"category\"]\n",
    "del df['user_score']\n",
    "\n",
    "# Nenhum dos atributos categóricos (exceto o 'user_rating') \n",
    "# será usado, pelo que podem ser removidos\n",
    "del df['genres']\n",
    "del df['companies']\n",
    "del df['platforms']\n",
    "\n",
    "# Atributo visto anteriormente\n",
    "del df['year']\n",
    "\n",
    "# O index passa a ser o atributo 'name'\n",
    "df.set_index('name', inplace=True)\n",
    "df.head(3)"
   ]
  },
  {
   "cell_type": "code",
   "execution_count": 19,
   "id": "66762d57",
   "metadata": {
    "code_folding": []
   },
   "outputs": [
    {
     "data": {
      "text/plain": [
       "age                int64\n",
       "n_genres           int64\n",
       "n_companies        int64\n",
       "n_platforms        int64\n",
       "n_dlcs             int64\n",
       "n_expansions       int64\n",
       "follows            int64\n",
       "in_franchise       int64\n",
       "user_rating       object\n",
       "n_user_reviews     int64\n",
       "dtype: object"
      ]
     },
     "execution_count": 19,
     "metadata": {},
     "output_type": "execute_result"
    }
   ],
   "source": [
    "# Agrupamento/Categorização dos Atributos \n",
    "# Categorical Columns/Attributes\n",
    "cat_columns = ['user_rating']\n",
    "\n",
    "# Numerical Columns/Attributes\n",
    "num_columns = ['n_dlcs',\n",
    "               'age',\n",
    "               'n_expansions',\n",
    "               'follows',\n",
    "               'n_genres',\n",
    "               'in_franchise',\n",
    "               'n_companies',\n",
    "               'n_platforms',\n",
    "               'n_user_reviews']\n",
    "df.dtypes"
   ]
  },
  {
   "cell_type": "markdown",
   "id": "32caad84",
   "metadata": {},
   "source": [
    "\n",
    "## <center>Visualização de Dados</center>"
   ]
  },
  {
   "cell_type": "code",
   "execution_count": 20,
   "id": "73808d8f",
   "metadata": {},
   "outputs": [
    {
     "data": {
      "text/plain": [
       "<AxesSubplot:xlabel='age', ylabel='n_user_reviews'>"
      ]
     },
     "execution_count": 20,
     "metadata": {},
     "output_type": "execute_result"
    },
    {
     "data": {
      "image/png": "[encoded data removed]",
      "text/plain": [
       "<Figure size 640x480 with 1 Axes>"
      ]
     },
     "metadata": {},
     "output_type": "display_data"
    }
   ],
   "source": [
    "# Lineplot (n_user_reviews / age)\n",
    "sns.lineplot(data=df,\n",
    "             x='age',\n",
    "             y='n_user_reviews',\n",
    "             hue='user_rating',\n",
    "             linestyle='--')\n",
    "\n",
    "# Através deste gráfico é-nos possível identificar \n",
    "# a tendência de que jogos com uma maior quantidade\n",
    "# de reviews tendem a ter uma melhor classifição\n",
    "\n",
    "# Mais ainda, facilmente é possível observar que\n",
    "# jogos mais recemtes tendem a ter uma melhor classificação\n",
    "# e uma maior quantidade de reviews"
   ]
  },
  {
   "cell_type": "code",
   "execution_count": 21,
   "id": "b44ecf29",
   "metadata": {},
   "outputs": [
    {
     "data": {
      "text/plain": [
       "<AxesSubplot:xlabel='age', ylabel='n_expansions'>"
      ]
     },
     "execution_count": 21,
     "metadata": {},
     "output_type": "execute_result"
    },
    {
     "data": {
      "image/png": "[encoded data removed]",
      "text/plain": [
       "<Figure size 640x480 with 1 Axes>"
      ]
     },
     "metadata": {},
     "output_type": "display_data"
    }
   ],
   "source": [
    "# Lineplot (n_expansions / age)\n",
    "sns.lineplot(data=df,\n",
    "             x='age',\n",
    "             y='n_expansions',\n",
    "             hue='user_rating')\n",
    "\n",
    "# Através deste gráfico é-nos possível identificar \n",
    "# a tendência de que apenas os jogos classificados como 'great'\n",
    "# ou 'good' recebem expansões para os respetivos jogos-base (standard-game) "
   ]
  },
  {
   "cell_type": "markdown",
   "id": "c1fd5c4c",
   "metadata": {},
   "source": [
    "# <center> Análise e Criação de Modelos Preditivos </center>"
   ]
  },
  {
   "cell_type": "markdown",
   "id": "33e9d4ee",
   "metadata": {},
   "source": [
    "## <center>Funções Auxiliares</center>"
   ]
  },
  {
   "cell_type": "code",
   "execution_count": 22,
   "id": "1ac20024",
   "metadata": {},
   "outputs": [],
   "source": [
    "# Generic Functions to Analyse the Predictive Models\n",
    "\n",
    "# Function to Save any DT model into a graph\n",
    "def Save_Tree_Diagram(File_Name, Model):\n",
    "    with open(f'Images/{File_Name}.dot', 'w') as out_file:\n",
    "        out_file = tree.export_graphviz(Model, out_file=out_file)\n",
    "\n",
    "# K-Fold Cross Validation Functions\n",
    "def Get_Model_K_Fold_CV_Accuracies(model,X,Y):\n",
    "    # cross_val_score returns a list of the scores, which we can visualize\n",
    "    # to get a reasonable estimate of our classifier's performance\n",
    "    kfold = KFold(n_splits=10)\n",
    "    model_cross_validation_scores = cross_val_score(model,X,Y,cv=kfold)\n",
    "    return model_cross_validation_scores\n",
    "\n",
    "def Plot_Model_K_Fold_Cross_Validation(model_name, model,X,Y,color):\n",
    "    model_cross_validation_scores = Get_Model_K_Fold_CV_Accuracies(model,X,Y)\n",
    "    print(f\"-> {model_name} Accuracy Avg: {model_cross_validation_scores.mean()*100:.3f} (Std: {model_cross_validation_scores.std()*100:.3f})\\n\")\n",
    "    plt.hist(model_cross_validation_scores, color=color)\n",
    "    plt.title(f'{model_name} -> Average Accuracy (%): {np.mean(model_cross_validation_scores)*100: .5f}')\n",
    "    plt.grid(visible=True, linestyle='dashed', linewidth=1.2)\n",
    "    plt.show()\n",
    "    return model_cross_validation_scores\n",
    "\n",
    "# Confusion Matrix\n",
    "def Plot_Confusion_Matrix(Test_Values, Predicted_Values, labels):\n",
    "    Confusion_Matrix = confusion_matrix(Test_Values,\n",
    "                                        Predicted_Values,\n",
    "                                        labels=labels)\n",
    "    Display = ConfusionMatrixDisplay(confusion_matrix=Confusion_Matrix,\n",
    "                                    display_labels=labels)\n",
    "    Display.plot(cmap=plt.cm.Blues)\n",
    "    plt.show()"
   ]
  },
  {
   "cell_type": "markdown",
   "id": "704a1a87",
   "metadata": {},
   "source": [
    "## <center>Previsão do 'User_Rating' (Decision Tree & KNN) </center>"
   ]
  },
  {
   "cell_type": "markdown",
   "id": "53c7a7f3",
   "metadata": {},
   "source": [
    "### - Criação de subsets para treino e teste de modelos preditivos"
   ]
  },
  {
   "cell_type": "code",
   "execution_count": 23,
   "id": "15eddd53",
   "metadata": {},
   "outputs": [],
   "source": [
    "X = df[num_columns]\n",
    "Y = df['user_rating']\n",
    "\n",
    "(X_train, X_test,\n",
    " Y_train, Y_test) = train_test_split(X, Y, test_size=0.3)"
   ]
  },
  {
   "cell_type": "markdown",
   "id": "6b066f55",
   "metadata": {},
   "source": [
    "## <center>Decision Tree Classifier</center>"
   ]
  },
  {
   "cell_type": "code",
   "execution_count": 24,
   "id": "9a5d06ca",
   "metadata": {},
   "outputs": [
    {
     "data": {
      "text/plain": [
       "''"
      ]
     },
     "execution_count": 24,
     "metadata": {},
     "output_type": "execute_result"
    }
   ],
   "source": [
    "# Decision Tree Classifier\n",
    "decision_tree = DecisionTreeClassifier()\n",
    "decision_tree.fit(X_train, Y_train)\n",
    ";"
   ]
  },
  {
   "cell_type": "code",
   "execution_count": 25,
   "id": "65052b2e",
   "metadata": {},
   "outputs": [
    {
     "name": "stdout",
     "output_type": "stream",
     "text": [
      "Previsões Corretas: 984/1726\n",
      "Previsões Incorretas: 742/1726\n"
     ]
    }
   ],
   "source": [
    "# Decision Tree - Test Predictions\n",
    "decision_tree_predicted = decision_tree.predict(X_test)\n",
    "total_guesses = decision_tree_predicted.shape[0]\n",
    "correct_guesses = ((decision_tree_predicted == Y_test) == True).sum()\n",
    "incorrect_guesses = ((decision_tree_predicted == Y_test) == False).sum()\n",
    "\n",
    "print(f\"Previsões Corretas: {correct_guesses}/{total_guesses}\")\n",
    "print(f\"Previsões Incorretas: {incorrect_guesses}/{total_guesses}\")"
   ]
  },
  {
   "cell_type": "code",
   "execution_count": 26,
   "id": "85f764c3",
   "metadata": {},
   "outputs": [
    {
     "name": "stdout",
     "output_type": "stream",
     "text": [
      "Decision Tree Train Accuracy (%): 99.9503\n",
      "Decision Tree Test Accuracy (%): 57.0104\n"
     ]
    }
   ],
   "source": [
    "# Decision Tree - Train and Test Accuracies\n",
    "\n",
    "decision_tree_acc_train = decision_tree.score(X_train, Y_train)\n",
    "decision_tree_acc_test = decision_tree.score(X_test, Y_test)\n",
    "\n",
    "print(f\"Decision Tree Train Accuracy (%): {decision_tree_acc_train*100:.4f}\")\n",
    "print(f\"Decision Tree Test Accuracy (%): {decision_tree_acc_test*100:.4f}\")\n",
    "\n",
    "# Como a Train Accuracy é muito elevada face à Test Accuracy mais reduzida,\n",
    "# podemos concluir que estamos perante um caso de Overfitting. Nestes, o modelo \n",
    "# de treino acaba por se adaptar demasiado aos dados de treino acabando por originar\n",
    "# uma Train Accuracy alta face a uma Test Accuracy mais baixa"
   ]
  },
  {
   "cell_type": "code",
   "execution_count": 27,
   "id": "3a224bcc",
   "metadata": {},
   "outputs": [],
   "source": [
    "# In order to save the Decision Tree\n",
    "\n",
    "Save_Tree_Diagram(\"Decision_Tree_Model\",decision_tree)\n",
    "\n",
    "# A Decision Tree Obtida apresenta Milhares de Nós, pelo que não seria fazível adicioná-la ao notebook"
   ]
  },
  {
   "cell_type": "markdown",
   "id": "a3926a4f",
   "metadata": {},
   "source": [
    "##  <center>KNN Classifier</center>"
   ]
  },
  {
   "cell_type": "code",
   "execution_count": 28,
   "id": "10143482",
   "metadata": {},
   "outputs": [
    {
     "data": {
      "text/plain": [
       "''"
      ]
     },
     "execution_count": 28,
     "metadata": {},
     "output_type": "execute_result"
    }
   ],
   "source": [
    "# KNN Classifier\n",
    "N_NEIGHBORS = 3\n",
    "knn = KNeighborsClassifier(n_neighbors=N_NEIGHBORS)\n",
    "knn.fit(X_train,Y_train)\n",
    ";"
   ]
  },
  {
   "cell_type": "code",
   "execution_count": 29,
   "id": "1830cec6",
   "metadata": {},
   "outputs": [
    {
     "name": "stdout",
     "output_type": "stream",
     "text": [
      "Previsões Corretas: 1060/1726\n",
      "Previsões Incorretas: 666/1726\n"
     ]
    }
   ],
   "source": [
    "# KNN - Test Predictions\n",
    "knn_preds_test = knn.predict(X_test)\n",
    "total_guesses = knn_preds_test.shape[0]\n",
    "correct_guesses = ((knn_preds_test == Y_test) == True).sum()\n",
    "incorrect_guesses = ((knn_preds_test == Y_test) == False).sum()\n",
    "\n",
    "print(f\"Previsões Corretas: {correct_guesses}/{total_guesses}\")\n",
    "print(f\"Previsões Incorretas: {incorrect_guesses}/{total_guesses}\")"
   ]
  },
  {
   "cell_type": "code",
   "execution_count": 30,
   "id": "586b05be",
   "metadata": {
    "scrolled": true
   },
   "outputs": [
    {
     "name": "stdout",
     "output_type": "stream",
     "text": [
      "KNN Train Accuracy (%): 78.2717\n",
      "KNN Test Accuracy (%): 61.4137\n"
     ]
    }
   ],
   "source": [
    "# KNN Accuracies - Train and Test Accuracies\n",
    "\n",
    "knn_preds_train = knn.predict(X_train)\n",
    "knn_acc_train = sum(knn_preds_train == Y_train) / len(Y_train)\n",
    "# Equivalente a:\n",
    "knn_acc_train = knn.score(X_train, Y_train)\n",
    "\n",
    "knn_preds_test = knn.predict(X_test)\n",
    "knn_acc_test = sum(knn_preds_test == Y_test) / len(Y_test)\n",
    "# Equivalente a:\n",
    "knn_acc_test = knn.score(X_test,Y_test)\n",
    "\n",
    "print(f\"KNN Train Accuracy (%): {knn_acc_train*100:.4f}\")\n",
    "print(f\"KNN Test Accuracy (%): {knn_acc_test*100:.4f}\")"
   ]
  },
  {
   "cell_type": "markdown",
   "id": "d25454e1",
   "metadata": {},
   "source": [
    "## <center>Comparação dos Modelos Preditivos</center>"
   ]
  },
  {
   "cell_type": "markdown",
   "id": "f8198b68",
   "metadata": {},
   "source": [
    "### <center>Confusion Matrix</center>"
   ]
  },
  {
   "cell_type": "code",
   "execution_count": 31,
   "id": "cfacd06b",
   "metadata": {
    "code_folding": [
     0
    ]
   },
   "outputs": [
    {
     "data": {
      "image/png": "[encoded data removed]",
      "text/plain": [
       "<Figure size 640x480 with 2 Axes>"
      ]
     },
     "metadata": {},
     "output_type": "display_data"
    }
   ],
   "source": [
    "# Confusion Matrix - Decision Tree (Construção da Matriz de Confusão) \n",
    "Plot_Confusion_Matrix(Y_test, \n",
    "                      decision_tree_predicted,\n",
    "                      labels=['bad', 'mediocre', 'good', 'great'])"
   ]
  },
  {
   "cell_type": "code",
   "execution_count": 32,
   "id": "d89cb67d",
   "metadata": {
    "code_folding": [
     0
    ]
   },
   "outputs": [
    {
     "data": {
      "image/png": "[encoded data removed]",
      "text/plain": [
       "<Figure size 640x480 with 2 Axes>"
      ]
     },
     "metadata": {},
     "output_type": "display_data"
    }
   ],
   "source": [
    "# Confusion Matrix - KNN (Construção da Matriz de Confusão)\n",
    "Plot_Confusion_Matrix(Y_test,\n",
    "                      knn_preds_test,\n",
    "                      labels=['bad', 'mediocre', 'good', 'great'])"
   ]
  },
  {
   "cell_type": "markdown",
   "id": "7c034d63",
   "metadata": {},
   "source": [
    "### <center>Precision, Recall, Accuracy</center>"
   ]
  },
  {
   "cell_type": "code",
   "execution_count": 33,
   "id": "6be1592d",
   "metadata": {
    "code_folding": []
   },
   "outputs": [
    {
     "data": {
      "text/html": [
       "<div>\n",
       "<style scoped>\n",
       "    .dataframe tbody tr th:only-of-type {\n",
       "        vertical-align: middle;\n",
       "    }\n",
       "\n",
       "    .dataframe tbody tr th {\n",
       "        vertical-align: top;\n",
       "    }\n",
       "\n",
       "    .dataframe thead th {\n",
       "        text-align: right;\n",
       "    }\n",
       "</style>\n",
       "<table border=\"1\" class=\"dataframe\">\n",
       "  <thead>\n",
       "    <tr style=\"text-align: right;\">\n",
       "      <th></th>\n",
       "      <th>Precision (%)</th>\n",
       "      <th>Recall/Sensitivity (%)</th>\n",
       "      <th>Accuracy (%)</th>\n",
       "    </tr>\n",
       "  </thead>\n",
       "  <tbody>\n",
       "    <tr>\n",
       "      <th>Decision Tree</th>\n",
       "      <td>30.262061</td>\n",
       "      <td>30.603082</td>\n",
       "      <td>57.010429</td>\n",
       "    </tr>\n",
       "    <tr>\n",
       "      <th>KNN</th>\n",
       "      <td>30.641909</td>\n",
       "      <td>30.968452</td>\n",
       "      <td>61.413673</td>\n",
       "    </tr>\n",
       "  </tbody>\n",
       "</table>\n",
       "</div>"
      ],
      "text/plain": [
       "               Precision (%)  Recall/Sensitivity (%)  Accuracy (%)\n",
       "Decision Tree      30.262061               30.603082     57.010429\n",
       "KNN                30.641909               30.968452     61.413673"
      ]
     },
     "execution_count": 33,
     "metadata": {},
     "output_type": "execute_result"
    }
   ],
   "source": [
    "# Precision, Recall and Accuracy given the predictive models initially obtained\n",
    "data = [\n",
    "        [precision_score(Y_test,decision_tree_predicted,average='macro')*100,\n",
    "         recall_score(Y_test,decision_tree_predicted,average='macro')*100,\n",
    "         accuracy_score(Y_test,decision_tree_predicted)*100],\n",
    "        \n",
    "        [precision_score(Y_test,knn_preds_test,average='macro')*100,\n",
    "         recall_score(Y_test,knn_preds_test,average='macro')*100,\n",
    "         accuracy_score(Y_test,knn_preds_test)*100]\n",
    "       ]\n",
    "\n",
    "# Criação de um DataFrame cujos dados correspondem à precision, recall e accuracy \n",
    "# dos algoritmos de aprendizagem computacional supervisionados\n",
    "Evaluation_df = pd.DataFrame(data,\n",
    "                             columns=['Precision (%)',\n",
    "                                      'Recall/Sensitivity (%)',\n",
    "                                      'Accuracy (%)'],\n",
    "                             index=['Decision Tree', 'KNN'])\n",
    "Evaluation_df"
   ]
  },
  {
   "cell_type": "markdown",
   "id": "6cd5ce56",
   "metadata": {},
   "source": [
    "### <center>Performance</center><p><center>(Using K-Fold Cross Validation)</center>"
   ]
  },
  {
   "cell_type": "code",
   "execution_count": 34,
   "id": "05455efd",
   "metadata": {
    "code_folding": [],
    "scrolled": false
   },
   "outputs": [
    {
     "name": "stdout",
     "output_type": "stream",
     "text": [
      "-> Decision Tree Accuracy Avg: 54.368 (Std: 6.796)\n",
      "\n"
     ]
    },
    {
     "data": {
      "image/png": "[encoded data removed]",
      "text/plain": [
       "<Figure size 640x480 with 1 Axes>"
      ]
     },
     "metadata": {},
     "output_type": "display_data"
    }
   ],
   "source": [
    "# DT Average Score/Accuracy (Cross Validation With Kfold)\n",
    "DT_K_Fold_CV_Scores = Plot_Model_K_Fold_Cross_Validation(\"Decision Tree\",decision_tree,X,Y,\"skyblue\")"
   ]
  },
  {
   "cell_type": "code",
   "execution_count": 35,
   "id": "5e1aab90",
   "metadata": {
    "code_folding": [],
    "scrolled": false
   },
   "outputs": [
    {
     "name": "stdout",
     "output_type": "stream",
     "text": [
      "-> KNN Accuracy Avg: 58.086 (Std: 8.770)\n",
      "\n"
     ]
    },
    {
     "data": {
      "image/png": "[encoded data removed]",
      "text/plain": [
       "<Figure size 640x480 with 1 Axes>"
      ]
     },
     "metadata": {},
     "output_type": "display_data"
    }
   ],
   "source": [
    "# KNN Average Score/Accuracy (Cross Validation With Kfold)\n",
    "KNN_K_Fold_CV_Scores = Plot_Model_K_Fold_Cross_Validation(\"KNN\",knn,X,Y,\"skyblue\")"
   ]
  },
  {
   "cell_type": "code",
   "execution_count": 36,
   "id": "54c4d0df",
   "metadata": {},
   "outputs": [
    {
     "data": {
      "image/png": "[encoded data removed]",
      "text/plain": [
       "<Figure size 640x480 with 1 Axes>"
      ]
     },
     "metadata": {},
     "output_type": "display_data"
    }
   ],
   "source": [
    "# Simple BoxPlot with both algorithm's accuracies (calculated above)\n",
    "X_labels = ['Decision Tree', 'KNN']\n",
    "Y_label = 'Accuracy (%)'\n",
    "fig = plt.figure()\n",
    "fig.suptitle('Algorithm Comparison')\n",
    "ax = fig.add_subplot(111)\n",
    "plt.boxplot([DT_K_Fold_CV_Scores, KNN_K_Fold_CV_Scores])\n",
    "ax.set_xticklabels(X_labels)\n",
    "plt.ylabel(Y_label)\n",
    "plt.show()"
   ]
  }
 ],
 "metadata": {
  "kernelspec": {
   "display_name": "Python 3 (ipykernel)",
   "language": "python",
   "name": "python3"
  },
  "language_info": {
   "codemirror_mode": {
    "name": "ipython",
    "version": 3
   },
   "file_extension": ".py",
   "mimetype": "text/x-python",
   "name": "python",
   "nbconvert_exporter": "python",
   "pygments_lexer": "ipython3",
   "version": "3.9.13"
  }
 },
 "nbformat": 4,
 "nbformat_minor": 5
}
